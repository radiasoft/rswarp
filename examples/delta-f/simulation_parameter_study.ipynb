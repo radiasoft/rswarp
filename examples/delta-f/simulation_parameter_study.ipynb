{
 "cells": [
  {
   "cell_type": "code",
   "execution_count": 1,
   "metadata": {},
   "outputs": [],
   "source": [
    "from scipy.constants import e, m_e, c, epsilon_0\n",
    "from scipy.constants import Boltzmann as k_b\n",
    "import numpy as np"
   ]
  },
  {
   "cell_type": "markdown",
   "metadata": {},
   "source": [
    "### Beam specifications"
   ]
  },
  {
   "cell_type": "code",
   "execution_count": 2,
   "metadata": {},
   "outputs": [],
   "source": [
    "# Lab frame quantities\n",
    "slice_current = 100. # Amps (no idea if this is close)\n",
    "slice_length = 4e-6 "
   ]
  },
  {
   "cell_type": "code",
   "execution_count": 3,
   "metadata": {},
   "outputs": [],
   "source": [
    "gamma0 = 42.66  # assumed exact\n",
    "beta0 = np.sqrt(1. - 1. / (gamma0 * gamma0))"
   ]
  },
  {
   "cell_type": "code",
   "execution_count": 4,
   "metadata": {},
   "outputs": [],
   "source": [
    "# Initial Courant-Snyder parameters (beam at the waist initially):\n",
    "alpha_x_ini = 0.0\n",
    "beta_x_ini = 4.5  # m\n",
    "gamma_x_ini = (1. + alpha_x_ini * alpha_x_ini) / beta_x_ini\n",
    "eps_n_rms_x = 5.0e-6  # m-rad, normalized rms emittance\n",
    "eps_rms_x = eps_n_rms_x / (gamma0 * beta0)"
   ]
  },
  {
   "cell_type": "code",
   "execution_count": 5,
   "metadata": {},
   "outputs": [],
   "source": [
    "x_rms_ini = np.sqrt(eps_rms_x * beta_x_ini)\n",
    "xp_rms_ini = np.sqrt(eps_rms_x * gamma_x_ini)  # lab frame value"
   ]
  },
  {
   "cell_type": "code",
   "execution_count": 6,
   "metadata": {},
   "outputs": [],
   "source": [
    "v_rms_transverse = gamma0 * beta0 * c * xp_rms_ini "
   ]
  },
  {
   "cell_type": "code",
   "execution_count": 7,
   "metadata": {},
   "outputs": [],
   "source": [
    "K = 1. / (4 * np.pi * epsilon_0)"
   ]
  },
  {
   "cell_type": "markdown",
   "metadata": {},
   "source": [
    "### Derived Beam Quantities"
   ]
  },
  {
   "cell_type": "code",
   "execution_count": 9,
   "metadata": {},
   "outputs": [],
   "source": [
    "electrons_in_slice = slice_current * (slice_length / c) / e"
   ]
  },
  {
   "cell_type": "code",
   "execution_count": 10,
   "metadata": {},
   "outputs": [],
   "source": [
    "transverse_temperature_rms = m_e * c**2 / k_b * xp_rms_ini**2\n",
    "transverse_density_rms = electrons_in_slice / ((2 * np.pi)**(1.5) * x_rms_ini * x_rms_ini * (slice_length * gamma0) )"
   ]
  },
  {
   "cell_type": "code",
   "execution_count": 11,
   "metadata": {},
   "outputs": [],
   "source": [
    "debye_length = np.sqrt(epsilon_0 * k_b * transverse_temperature_rms / (e**2 * transverse_density_rms))"
   ]
  },
  {
   "cell_type": "code",
   "execution_count": 12,
   "metadata": {},
   "outputs": [],
   "source": [
    "plasma_frequency = np.sqrt(transverse_density_rms * e**2 / (m_e * epsilon_0))"
   ]
  },
  {
   "cell_type": "code",
   "execution_count": 21,
   "metadata": {},
   "outputs": [],
   "source": [
    "def electric_field(r, Q):\n",
    "    K = 1. / (4 * np.pi * epsilon_0)\n",
    "    return K * Q * e / r"
   ]
  },
  {
   "cell_type": "code",
   "execution_count": 22,
   "metadata": {},
   "outputs": [],
   "source": [
    "def normalized_velocity_kick(r0, dt, v_rms, Q):\n",
    "    dvn = electric_field(r0, Q)\n",
    "    dvn *= dt / v_rms\n",
    "    dvn *= e / m_e\n",
    "    \n",
    "    return dvn"
   ]
  },
  {
   "cell_type": "markdown",
   "metadata": {},
   "source": [
    "# Plotting"
   ]
  },
  {
   "cell_type": "code",
   "execution_count": 23,
   "metadata": {},
   "outputs": [],
   "source": [
    "import matplotlib.pyplot as plt\n",
    "from matplotlib import ticker, colors"
   ]
  },
  {
   "cell_type": "code",
   "execution_count": 24,
   "metadata": {},
   "outputs": [],
   "source": [
    "%matplotlib widget"
   ]
  },
  {
   "cell_type": "code",
   "execution_count": 25,
   "metadata": {},
   "outputs": [],
   "source": [
    "# Simulation Steps\n",
    "Nsteps = 5000\n",
    "L_mod = 3.7  # m, modulator section length in the lab frame\n",
    "T_mod = L_mod / (gamma0 * beta0 * c)  # sim time in the _beam_ frame"
   ]
  },
  {
   "cell_type": "code",
   "execution_count": 26,
   "metadata": {},
   "outputs": [
    {
     "name": "stdout",
     "output_type": "stream",
     "text": [
      "debye length: 1.119202194575358e-05\n",
      "Plasma period: 1.4532479615901866e-09\n"
     ]
    }
   ],
   "source": [
    "print('debye length:', debye_length)\n",
    "print('Plasma period:', 2 * np.pi / plasma_frequency)"
   ]
  },
  {
   "cell_type": "code",
   "execution_count": 27,
   "metadata": {},
   "outputs": [
    {
     "data": {
      "application/vnd.jupyter.widget-view+json": {
       "model_id": "82235716431f4a059076f8bc0855c753",
       "version_major": 2,
       "version_minor": 0
      },
      "text/plain": [
       "Canvas(toolbar=Toolbar(toolitems=[('Home', 'Reset original view', 'home', 'home'), ('Back', 'Back to previous …"
      ]
     },
     "metadata": {},
     "output_type": "display_data"
    }
   ],
   "source": [
    "plt.figure()\n",
    "\n",
    "current_dt = T_mod / np.float64(Nsteps)\n",
    "current_v_rms = v_rms_transverse\n",
    "current_Q = 79\n",
    "\n",
    "plt.title(r'$ \\frac{dv_{e-}}{v_{e-}^{rms}} = \\frac{q_e E_{ion}(r_0)}{v_{e-}^{rms} m_{e-}} dt$', fontsize=24)\n",
    "\n",
    "r_0_vals = np.linspace(1e-14, 1e-11, 500)\n",
    "plt.plot(r_0_vals * 1e12, normalized_velocity_kick(r_0_vals, current_dt, current_v_rms, current_Q), label=r'$Q_{ion}$=79')\n",
    "plt.scatter(np.array([1e-13, 5e-15]) * 1e12, normalized_velocity_kick(np.array([1e-13, 5e-15]), current_dt, current_v_rms, current_Q))\n",
    "plt.plot(r_0_vals * 1e12, normalized_velocity_kick(r_0_vals, current_dt, current_v_rms, 1), label=r'$Q_{ion}$=1')\n",
    "plt.yscale('log')\n",
    "plt.ylabel(r'$dv_{e-}$ / $v_{e-}^{rms}$', fontsize=16)\n",
    "plt.xlabel('$r_0$ (pm)', fontsize=16)\n",
    "plt.legend()\n",
    "plt.annotate('dt={:2.2e} s'.format(current_dt), xy=(0.6, 0.65), xycoords='figure fraction')\n",
    "plt.annotate(r'$v_{e-}^{rms}$='+'{:2.2e} m/s'.format(current_v_rms), xy=(0.6, 0.6), xycoords='figure fraction')\n",
    "plt.show()"
   ]
  },
  {
   "cell_type": "markdown",
   "metadata": {},
   "source": [
    "# Quick, Order-of-magnitude Check on delta-f weight update limitation impo"
   ]
  },
  {
   "cell_type": "code",
   "execution_count": 28,
   "metadata": {},
   "outputs": [],
   "source": [
    "v_norm = v_rms_transverse * (1 / gamma0) / c / (gamma0 * beta0)"
   ]
  },
  {
   "cell_type": "code",
   "execution_count": 29,
   "metadata": {},
   "outputs": [
    {
     "data": {
      "text/plain": [
       "0.10975798405410368"
      ]
     },
     "execution_count": 29,
     "metadata": {},
     "output_type": "execute_result"
    }
   ],
   "source": [
    "(e / m_e) * (1 * x_rms_ini + v_norm * 1) * electric_field(1e-13, 79)*e / (gamma0 * beta0 * eps_n_rms_x)"
   ]
  },
  {
   "cell_type": "markdown",
   "metadata": {},
   "source": [
    "# Look at timestep / r0 limitations for drift case assuming typical cell crossing limits"
   ]
  },
  {
   "cell_type": "code",
   "execution_count": 30,
   "metadata": {},
   "outputs": [],
   "source": [
    "dx = np.sqrt(eps_rms_x * 20) / 32"
   ]
  },
  {
   "cell_type": "code",
   "execution_count": 31,
   "metadata": {},
   "outputs": [
    {
     "data": {
      "text/plain": [
       "3.864540158077874e-12"
      ]
     },
     "execution_count": 31,
     "metadata": {},
     "output_type": "execute_result"
    }
   ],
   "source": [
    "dx / (v_rms_transverse * 6)"
   ]
  },
  {
   "cell_type": "code",
   "execution_count": 32,
   "metadata": {},
   "outputs": [
    {
     "data": {
      "text/plain": [
       "5.787746730526589e-14"
      ]
     },
     "execution_count": 32,
     "metadata": {},
     "output_type": "execute_result"
    }
   ],
   "source": [
    "current_dt"
   ]
  },
  {
   "cell_type": "code",
   "execution_count": 33,
   "metadata": {},
   "outputs": [
    {
     "data": {
      "text/plain": [
       "66.77106545963639"
      ]
     },
     "execution_count": 33,
     "metadata": {},
     "output_type": "execute_result"
    }
   ],
   "source": [
    "3.864540158077874e-12 / current_dt"
   ]
  },
  {
   "cell_type": "code",
   "execution_count": 34,
   "metadata": {},
   "outputs": [],
   "source": [
    "# cell size if Twiss beta goes up to 20\n",
    "number_of_cells = 32\n",
    "cell_size = np.sqrt(eps_rms_x * 20) / number_of_cells\n",
    "# dt_min = cell_size / v_max"
   ]
  },
  {
   "cell_type": "code",
   "execution_count": 35,
   "metadata": {},
   "outputs": [
    {
     "data": {
      "application/vnd.jupyter.widget-view+json": {
       "model_id": "f243f1f95e4341bba997135f659bc4d1",
       "version_major": 2,
       "version_minor": 0
      },
      "text/plain": [
       "Canvas(toolbar=Toolbar(toolitems=[('Home', 'Reset original view', 'home', 'home'), ('Back', 'Back to previous …"
      ]
     },
     "metadata": {},
     "output_type": "display_data"
    }
   ],
   "source": [
    "fig, ax1 = plt.subplots(1, 1)\n",
    "\n",
    "current_dt = T_mod / np.float64(Nsteps)\n",
    "current_v_rms = v_rms_transverse\n",
    "current_Q = 79\n",
    "\n",
    "dt_vals = np.linspace(10e-14, 3e-12, 500)\n",
    "\n",
    "dt_ratio = dx / (current_v_rms * 6 + current_v_rms *normalized_velocity_kick(1e-13, dt_vals, current_v_rms, current_Q)) / dt_vals\n",
    "ax1.plot(1e12*dt_vals, 1/dt_ratio, label=r'$r_0$ = 100 fm')\n",
    "\n",
    "dt_ratio = dx / (current_v_rms * 6 + current_v_rms*normalized_velocity_kick(5e-15, dt_vals, current_v_rms, current_Q)) / dt_vals\n",
    "ax1.plot(1e12*dt_vals, 1/dt_ratio, label=r'$r_0$ = 5 fm')\n",
    "\n",
    "ax1.set_xlabel('dt (ps)')\n",
    "ax1.set_ylabel(r'$\\frac{dx}{v_{max}(r_0)}$ / dt')\n",
    "ax1.legend()\n",
    "                 \n",
    "plt.show()"
   ]
  },
  {
   "cell_type": "code",
   "execution_count": 36,
   "metadata": {},
   "outputs": [
    {
     "data": {
      "application/vnd.jupyter.widget-view+json": {
       "model_id": "2170c735d1b14f46a202c38e892b25eb",
       "version_major": 2,
       "version_minor": 0
      },
      "text/plain": [
       "Canvas(toolbar=Toolbar(toolitems=[('Home', 'Reset original view', 'home', 'home'), ('Back', 'Back to previous …"
      ]
     },
     "metadata": {},
     "output_type": "display_data"
    }
   ],
   "source": [
    "fig, ax1 = plt.subplots(1, 1, figsize=(12, 6))\n",
    "\n",
    "ax1.set_title(r'dv * dt  / $\\lambda_D$')\n",
    "current_dt = T_mod / np.float64(Nsteps)\n",
    "current_v_rms = v_rms_transverse\n",
    "current_Q = 79\n",
    "\n",
    "r_0_vals = np.linspace(1e-14, 1e-11, 500)\n",
    "dt_vals = np.linspace(3e-14, 1e-12, 500)\n",
    "X, Y = np.meshgrid(r_0_vals, dt_vals)\n",
    "Z = normalized_velocity_kick(X, Y, current_v_rms, current_Q) * current_v_rms * Y / debye_length\n",
    "r0_contour = ax1.contourf(X * 1e12, Y * 1e12, Z, levels=64, locator=ticker.LogLocator(subs='all'))\n",
    "ax1.set_xlabel(r'$r_0$ (pm)')\n",
    "ax1.set_ylabel('dt (ps)')\n",
    "fig.colorbar(r0_contour)\n",
    "\n",
    "                 \n",
    "plt.show()"
   ]
  },
  {
   "cell_type": "code",
   "execution_count": 37,
   "metadata": {},
   "outputs": [
    {
     "data": {
      "application/vnd.jupyter.widget-view+json": {
       "model_id": "fb3e07b61e314fdeb73d3f77eda34b1c",
       "version_major": 2,
       "version_minor": 0
      },
      "text/plain": [
       "Canvas(toolbar=Toolbar(toolitems=[('Home', 'Reset original view', 'home', 'home'), ('Back', 'Back to previous …"
      ]
     },
     "metadata": {},
     "output_type": "display_data"
    }
   ],
   "source": [
    "fig, (ax1, ax2) = plt.subplots(1, 2, figsize=(12, 6))\n",
    "\n",
    "current_dt = T_mod / np.float64(Nsteps)\n",
    "current_v_rms = v_rms_transverse\n",
    "current_Q = 79\n",
    "\n",
    "r_0_vals = np.linspace(1e-15, 1e-13, 500)\n",
    "dt_vals = np.linspace(1e-15, 1e-12, 500)\n",
    "X, Y = np.meshgrid(r_0_vals, dt_vals)\n",
    "\n",
    "r0_contour = ax1.contourf(X, Y, normalized_velocity_kick(X, Y, current_v_rms, current_Q), levels=64, locator=ticker.LogLocator(subs='all'))\n",
    "ax1.set_xlabel(r'$r_0$')\n",
    "ax1.set_ylabel('time step')\n",
    "fig.colorbar(r0_contour)\n",
    "dt_ratio = dx / (current_v_rms * 6 + current_v_rms*normalized_velocity_kick(X, Y, current_v_rms, current_Q)) / Y\n",
    "Z = 1/dt_ratio\n",
    "lev_exp = np.linspace(np.floor(np.log10(Z.min())-1),\n",
    "                   np.ceil(np.log10(Z.max())+1), 10)\n",
    "level = np.power(10, lev_exp)\n",
    "dt_contour = ax2.contourf(X, Y, 1/dt_ratio, level, norm=colors.LogNorm())\n",
    "# dt_contour = ax2.contourf(X, Y, 1/dt_ratio, levels=64, locator=ticker.LogLocator(subs='all'))\n",
    "fig.colorbar(dt_contour)\n",
    "ax2.set_xlabel(r'$r_0$')\n",
    "ax2.set_ylabel('time step')\n",
    "                 \n",
    "plt.show()"
   ]
  },
  {
   "cell_type": "code",
   "execution_count": 38,
   "metadata": {},
   "outputs": [
    {
     "data": {
      "text/plain": [
       "array([-5.        , -4.33333333, -3.66666667, -3.        , -2.33333333,\n",
       "       -1.66666667, -1.        , -0.33333333,  0.33333333,  1.        ])"
      ]
     },
     "execution_count": 38,
     "metadata": {},
     "output_type": "execute_result"
    }
   ],
   "source": [
    "lev_exp"
   ]
  },
  {
   "cell_type": "code",
   "execution_count": 39,
   "metadata": {},
   "outputs": [
    {
     "data": {
      "text/plain": [
       "array([-5.        , -4.33333333, -3.66666667, -3.        , -2.33333333,\n",
       "       -1.66666667, -1.        , -0.33333333,  0.33333333,  1.        ])"
      ]
     },
     "execution_count": 39,
     "metadata": {},
     "output_type": "execute_result"
    }
   ],
   "source": [
    "np.linspace(np.floor(np.log10(Z.min())-1),\n",
    "                   np.ceil(np.log10(Z.max())+1), 10)"
   ]
  },
  {
   "cell_type": "code",
   "execution_count": null,
   "metadata": {},
   "outputs": [],
   "source": []
  }
 ],
 "metadata": {
  "kernelspec": {
   "display_name": "Python 3",
   "language": "python",
   "name": "py3"
  },
  "language_info": {
   "codemirror_mode": {
    "name": "ipython",
    "version": 3
   },
   "file_extension": ".py",
   "mimetype": "text/x-python",
   "name": "python",
   "nbconvert_exporter": "python",
   "pygments_lexer": "ipython3",
   "version": "3.7.2"
  }
 },
 "nbformat": 4,
 "nbformat_minor": 4
}
