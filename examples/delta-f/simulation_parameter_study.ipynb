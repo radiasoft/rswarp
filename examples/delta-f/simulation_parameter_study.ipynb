{
 "cells": [
  {
   "cell_type": "code",
   "execution_count": 143,
   "metadata": {},
   "outputs": [],
   "source": [
    "from scipy.constants import e, m_e, c, epsilon_0\n",
    "from scipy.constants import Boltzmann as k_b\n",
    "import numpy as np"
   ]
  },
  {
   "cell_type": "markdown",
   "metadata": {},
   "source": [
    "### Beam specifications"
   ]
  },
  {
   "cell_type": "code",
   "execution_count": 138,
   "metadata": {},
   "outputs": [],
   "source": [
    "# Lab frame quantities\n",
    "slice_current = 100. # Amps (no idea if this is close)\n",
    "slice_length = 4e-6 "
   ]
  },
  {
   "cell_type": "code",
   "execution_count": 2,
   "metadata": {},
   "outputs": [],
   "source": [
    "gamma0 = 42.66  # assumed exact\n",
    "beta0 = np.sqrt(1. - 1. / (gamma0 * gamma0))"
   ]
  },
  {
   "cell_type": "code",
   "execution_count": 3,
   "metadata": {},
   "outputs": [],
   "source": [
    "# Initial Courant-Snyder parameters (beam at the waist initially):\n",
    "alpha_x_ini = 0.0\n",
    "beta_x_ini = 4.5  # m\n",
    "gamma_x_ini = (1. + alpha_x_ini * alpha_x_ini) / beta_x_ini\n",
    "eps_n_rms_x = 5.0e-6  # m-rad, normalized rms emittance\n",
    "eps_rms_x = eps_n_rms_x / (gamma0 * beta0)"
   ]
  },
  {
   "cell_type": "code",
   "execution_count": 59,
   "metadata": {},
   "outputs": [],
   "source": [
    "x_rms_ini = np.sqrt(eps_rms_x * beta_x_ini)\n",
    "xp_rms_ini = np.sqrt(eps_rms_x * gamma_x_ini)  # lab frame value"
   ]
  },
  {
   "cell_type": "code",
   "execution_count": 5,
   "metadata": {},
   "outputs": [],
   "source": [
    "v_rms_transverse = gamma0 * beta0 * c * xp_rms_ini "
   ]
  },
  {
   "cell_type": "code",
   "execution_count": 6,
   "metadata": {},
   "outputs": [],
   "source": [
    "K = 1. / (4 * np.pi * epsilon_0)"
   ]
  },
  {
   "cell_type": "markdown",
   "metadata": {},
   "source": [
    "### Derived Beam Quantities"
   ]
  },
  {
   "cell_type": "code",
   "execution_count": 187,
   "metadata": {},
   "outputs": [
    {
     "data": {
      "text/plain": [
       "8.32777330837424"
      ]
     },
     "execution_count": 187,
     "metadata": {},
     "output_type": "execute_result"
    }
   ],
   "source": [
    "electrons_in_slice * 1e-6"
   ]
  },
  {
   "cell_type": "code",
   "execution_count": 139,
   "metadata": {},
   "outputs": [],
   "source": [
    "electrons_in_slice = slice_current * (slice_length / c) / e"
   ]
  },
  {
   "cell_type": "code",
   "execution_count": 151,
   "metadata": {},
   "outputs": [],
   "source": [
    "transverse_temperature_rms = m_e * c**2 / k_b * xp_rms_ini**2\n",
    "transverse_density_rms = electrons_in_slice / ((2 * np.pi)**(1.5) * x_rms_ini * x_rms_ini * (slice_length * gamma0) )"
   ]
  },
  {
   "cell_type": "code",
   "execution_count": 152,
   "metadata": {},
   "outputs": [],
   "source": [
    "debye_length = np.sqrt(epsilon_0 * k_b * transverse_temperature_rms / (e**2 * transverse_density_rms))"
   ]
  },
  {
   "cell_type": "code",
   "execution_count": 181,
   "metadata": {},
   "outputs": [],
   "source": [
    "plasma_frequency = np.sqrt(transverse_density_rms * e**2 / (m_e * epsilon_0))"
   ]
  },
  {
   "cell_type": "code",
   "execution_count": 188,
   "metadata": {},
   "outputs": [],
   "source": [
    "# def electric_field(r, Q):\n",
    "#     K = 1. / (4 * np.pi * epsilon_0)\n",
    "#     return K * Q * e / r"
   ]
  },
  {
   "cell_type": "code",
   "execution_count": 11,
   "metadata": {},
   "outputs": [],
   "source": [
    "def normalized_velocity_kick(r0, dt, v_rms, Q):\n",
    "    dvn = electric_field(r0, Q)\n",
    "    dvn *= dt / v_rms\n",
    "    dvn *= e / m_e\n",
    "    \n",
    "    return dvn"
   ]
  },
  {
   "cell_type": "markdown",
   "metadata": {},
   "source": [
    "# Plotting"
   ]
  },
  {
   "cell_type": "code",
   "execution_count": 94,
   "metadata": {},
   "outputs": [],
   "source": [
    "import matplotlib.pyplot as plt\n",
    "from matplotlib import ticker, colors"
   ]
  },
  {
   "cell_type": "code",
   "execution_count": 43,
   "metadata": {},
   "outputs": [],
   "source": [
    "%matplotlib widget"
   ]
  },
  {
   "cell_type": "code",
   "execution_count": 18,
   "metadata": {},
   "outputs": [],
   "source": [
    "# Simulation Steps\n",
    "Nsteps = 5000\n",
    "L_mod = 3.7  # m, modulator section length in the lab frame\n",
    "T_mod = L_mod / (gamma0 * beta0 * c)  # sim time in the _beam_ frame"
   ]
  },
  {
   "cell_type": "code",
   "execution_count": 184,
   "metadata": {},
   "outputs": [
    {
     "name": "stdout",
     "output_type": "stream",
     "text": [
      "debye length: 1.119202194575358e-05\n",
      "Plasma period: 1.4532479615901866e-09\n"
     ]
    }
   ],
   "source": [
    "print('debye length:', debye_length)\n",
    "print('Plasma period:', 2 * np.pi / plasma_frequency)"
   ]
  },
  {
   "cell_type": "code",
   "execution_count": 185,
   "metadata": {},
   "outputs": [
    {
     "name": "stderr",
     "output_type": "stream",
     "text": [
      "/home/vagrant/.pyenv/versions/py3/lib/python3.7/site-packages/ipykernel_launcher.py:1: RuntimeWarning: More than 20 figures have been opened. Figures created through the pyplot interface (`matplotlib.pyplot.figure`) are retained until explicitly closed and may consume too much memory. (To control this warning, see the rcParam `figure.max_open_warning`).\n",
      "  \"\"\"Entry point for launching an IPython kernel.\n"
     ]
    },
    {
     "data": {
      "application/vnd.jupyter.widget-view+json": {
       "model_id": "a73ad4867cb4487fab3612538313006c",
       "version_major": 2,
       "version_minor": 0
      },
      "text/plain": [
       "Canvas(toolbar=Toolbar(toolitems=[('Home', 'Reset original view', 'home', 'home'), ('Back', 'Back to previous …"
      ]
     },
     "metadata": {},
     "output_type": "display_data"
    }
   ],
   "source": [
    "plt.figure()\n",
    "\n",
    "current_dt = T_mod / np.float64(Nsteps)\n",
    "current_v_rms = v_rms_transverse\n",
    "current_Q = 79\n",
    "\n",
    "plt.title(r'$ \\frac{dv_{e-}}{v_{e-}^{rms}} = \\frac{q_e E_{ion}(r_0)}{v_{e-}^{rms} m_{e-}} dt$', fontsize=24)\n",
    "\n",
    "r_0_vals = np.linspace(1e-14, 1e-11, 500)\n",
    "plt.plot(r_0_vals * 1e12, normalized_velocity_kick(r_0_vals, current_dt, current_v_rms, current_Q), label=r'$Q_{ion}$=79')\n",
    "plt.scatter(np.array([1e-13, 5e-15]) * 1e12, normalized_velocity_kick(np.array([1e-13, 5e-15]), current_dt, current_v_rms, current_Q))\n",
    "plt.plot(r_0_vals * 1e12, normalized_velocity_kick(r_0_vals, current_dt, current_v_rms, 1), label=r'$Q_{ion}$=1')\n",
    "plt.yscale('log')\n",
    "plt.ylabel(r'$dv_{e-}$ / $v_{e-}^{rms}$', fontsize=16)\n",
    "plt.xlabel('$r_0$ (pm)', fontsize=16)\n",
    "plt.legend()\n",
    "plt.annotate('dt={:2.2e} s'.format(current_dt), xy=(0.6, 0.65), xycoords='figure fraction')\n",
    "plt.annotate(r'$v_{e-}^{rms}$='+'{:2.2e} m/s'.format(current_v_rms), xy=(0.6, 0.6), xycoords='figure fraction')\n",
    "plt.show()"
   ]
  },
  {
   "cell_type": "markdown",
   "metadata": {},
   "source": [
    "# Quick, Order-of-magnitude Check on delta-f weight update limitation impo"
   ]
  },
  {
   "cell_type": "code",
   "execution_count": 63,
   "metadata": {},
   "outputs": [],
   "source": [
    "v_norm = v_rms_transverse * (1 / gamma0) / c / (gamma0 * beta0)"
   ]
  },
  {
   "cell_type": "code",
   "execution_count": 73,
   "metadata": {},
   "outputs": [
    {
     "data": {
      "text/plain": [
       "0.10975798405410368"
      ]
     },
     "execution_count": 73,
     "metadata": {},
     "output_type": "execute_result"
    }
   ],
   "source": [
    "(e / m_e) * (1 * x_rms_ini + v_norm * 1) * electric_field(1e-13, 79)*e / (gamma0 * beta0 * eps_n_rms_x)"
   ]
  },
  {
   "cell_type": "markdown",
   "metadata": {},
   "source": [
    "# Look at timestep / r0 limitations for drift case assuming typical cell crossing limits"
   ]
  },
  {
   "cell_type": "code",
   "execution_count": 76,
   "metadata": {},
   "outputs": [],
   "source": [
    "dx = np.sqrt(eps_rms_x * 20) / 32"
   ]
  },
  {
   "cell_type": "code",
   "execution_count": 77,
   "metadata": {},
   "outputs": [
    {
     "data": {
      "text/plain": [
       "3.864540158077874e-12"
      ]
     },
     "execution_count": 77,
     "metadata": {},
     "output_type": "execute_result"
    }
   ],
   "source": [
    "dx / (v_rms_transverse * 6)"
   ]
  },
  {
   "cell_type": "code",
   "execution_count": 109,
   "metadata": {},
   "outputs": [
    {
     "data": {
      "text/plain": [
       "5.787746730526589e-14"
      ]
     },
     "execution_count": 109,
     "metadata": {},
     "output_type": "execute_result"
    }
   ],
   "source": [
    "current_dt"
   ]
  },
  {
   "cell_type": "code",
   "execution_count": 108,
   "metadata": {},
   "outputs": [
    {
     "data": {
      "text/plain": [
       "66.77106545963639"
      ]
     },
     "execution_count": 108,
     "metadata": {},
     "output_type": "execute_result"
    }
   ],
   "source": [
    "3.864540158077874e-12 / current_dt"
   ]
  },
  {
   "cell_type": "code",
   "execution_count": null,
   "metadata": {},
   "outputs": [],
   "source": [
    "# cell size if Twiss beta goes up to 20\n",
    "number_of_cells = 32\n",
    "cell_size = np.sqrt(eps_rms_x * 20) / number_of_cells\n",
    "# dt_min = cell_size / v_max"
   ]
  },
  {
   "cell_type": "code",
   "execution_count": 164,
   "metadata": {},
   "outputs": [
    {
     "name": "stderr",
     "output_type": "stream",
     "text": [
      "/home/vagrant/.pyenv/versions/py3/lib/python3.7/site-packages/ipykernel_launcher.py:1: RuntimeWarning: More than 20 figures have been opened. Figures created through the pyplot interface (`matplotlib.pyplot.figure`) are retained until explicitly closed and may consume too much memory. (To control this warning, see the rcParam `figure.max_open_warning`).\n",
      "  \"\"\"Entry point for launching an IPython kernel.\n"
     ]
    },
    {
     "data": {
      "application/vnd.jupyter.widget-view+json": {
       "model_id": "575c70bf07634314969bf614bc860306",
       "version_major": 2,
       "version_minor": 0
      },
      "text/plain": [
       "Canvas(toolbar=Toolbar(toolitems=[('Home', 'Reset original view', 'home', 'home'), ('Back', 'Back to previous …"
      ]
     },
     "metadata": {},
     "output_type": "display_data"
    }
   ],
   "source": [
    "fig, ax1 = plt.subplots(1, 1)\n",
    "\n",
    "current_dt = T_mod / np.float64(Nsteps)\n",
    "current_v_rms = v_rms_transverse\n",
    "current_Q = 79\n",
    "\n",
    "dt_vals = np.linspace(10e-14, 3e-12, 500)\n",
    "\n",
    "dt_ratio = dx / (current_v_rms * 6 + current_v_rms *normalized_velocity_kick(1e-13, dt_vals, current_v_rms, current_Q)) / dt_vals\n",
    "ax1.plot(1e12*dt_vals, 1/dt_ratio, label=r'$r_0$ = 100 fm')\n",
    "\n",
    "dt_ratio = dx / (current_v_rms * 6 + current_v_rms*normalized_velocity_kick(5e-15, dt_vals, current_v_rms, current_Q)) / dt_vals\n",
    "ax1.plot(1e12*dt_vals, 1/dt_ratio, label=r'$r_0$ = 5 fm')\n",
    "\n",
    "ax1.set_xlabel('dt (ps)')\n",
    "ax1.set_ylabel(r'$\\frac{dx}{v_{max}(r_0)}$ / dt')\n",
    "ax1.legend()\n",
    "                 \n",
    "plt.show()"
   ]
  },
  {
   "cell_type": "code",
   "execution_count": 180,
   "metadata": {},
   "outputs": [
    {
     "name": "stderr",
     "output_type": "stream",
     "text": [
      "/home/vagrant/.pyenv/versions/py3/lib/python3.7/site-packages/ipykernel_launcher.py:1: RuntimeWarning: More than 20 figures have been opened. Figures created through the pyplot interface (`matplotlib.pyplot.figure`) are retained until explicitly closed and may consume too much memory. (To control this warning, see the rcParam `figure.max_open_warning`).\n",
      "  \"\"\"Entry point for launching an IPython kernel.\n"
     ]
    },
    {
     "data": {
      "application/vnd.jupyter.widget-view+json": {
       "model_id": "732e2e6e291248f5ab01a19c234036f3",
       "version_major": 2,
       "version_minor": 0
      },
      "text/plain": [
       "Canvas(toolbar=Toolbar(toolitems=[('Home', 'Reset original view', 'home', 'home'), ('Back', 'Back to previous …"
      ]
     },
     "metadata": {},
     "output_type": "display_data"
    }
   ],
   "source": [
    "fig, ax1 = plt.subplots(1, 1, figsize=(12, 6))\n",
    "\n",
    "ax1.set_title(r'dv * dt  / $\\lambda_D$')\n",
    "current_dt = T_mod / np.float64(Nsteps)\n",
    "current_v_rms = v_rms_transverse\n",
    "current_Q = 79\n",
    "\n",
    "r_0_vals = np.linspace(1e-14, 1e-11, 500)\n",
    "dt_vals = np.linspace(3e-14, 1e-12, 500)\n",
    "X, Y = np.meshgrid(r_0_vals, dt_vals)\n",
    "Z = normalized_velocity_kick(X, Y, current_v_rms, current_Q) * current_v_rms * Y / debye_length\n",
    "r0_contour = ax1.contourf(X * 1e12, Y * 1e12, Z, levels=64, locator=ticker.LogLocator(subs='all'))\n",
    "ax1.set_xlabel(r'$r_0$ (pm)')\n",
    "ax1.set_ylabel('dt (ps)')\n",
    "fig.colorbar(r0_contour)\n",
    "\n",
    "                 \n",
    "plt.show()"
   ]
  },
  {
   "cell_type": "code",
   "execution_count": 130,
   "metadata": {},
   "outputs": [
    {
     "name": "stderr",
     "output_type": "stream",
     "text": [
      "/home/vagrant/.pyenv/versions/py3/lib/python3.7/site-packages/ipykernel_launcher.py:1: RuntimeWarning: More than 20 figures have been opened. Figures created through the pyplot interface (`matplotlib.pyplot.figure`) are retained until explicitly closed and may consume too much memory. (To control this warning, see the rcParam `figure.max_open_warning`).\n",
      "  \"\"\"Entry point for launching an IPython kernel.\n"
     ]
    },
    {
     "data": {
      "application/vnd.jupyter.widget-view+json": {
       "model_id": "c2978850f5d244b48d49962029ee40c6",
       "version_major": 2,
       "version_minor": 0
      },
      "text/plain": [
       "Canvas(toolbar=Toolbar(toolitems=[('Home', 'Reset original view', 'home', 'home'), ('Back', 'Back to previous …"
      ]
     },
     "metadata": {},
     "output_type": "display_data"
    }
   ],
   "source": [
    "fig, (ax1, ax2) = plt.subplots(1, 2, figsize=(12, 6))\n",
    "\n",
    "current_dt = T_mod / np.float64(Nsteps)\n",
    "current_v_rms = v_rms_transverse\n",
    "current_Q = 79\n",
    "\n",
    "r_0_vals = np.linspace(1e-15, 1e-13, 500)\n",
    "dt_vals = np.linspace(1e-15, 1e-12, 500)\n",
    "X, Y = np.meshgrid(r_0_vals, dt_vals)\n",
    "\n",
    "r0_contour = ax1.contourf(X, Y, normalized_velocity_kick(X, Y, current_v_rms, current_Q), levels=64, locator=ticker.LogLocator(subs='all'))\n",
    "ax1.set_xlabel(r'$r_0$')\n",
    "ax1.set_ylabel('time step')\n",
    "fig.colorbar(r0_contour)\n",
    "dt_ratio = dx / (current_v_rms * 6 + current_v_rms*normalized_velocity_kick(X, Y, current_v_rms, current_Q)) / Y\n",
    "Z = 1/dt_ratio\n",
    "lev_exp = np.linspace(np.floor(np.log10(Z.min())-1),\n",
    "                   np.ceil(np.log10(Z.max())+1), 10)\n",
    "level = np.power(10, lev_exp)\n",
    "dt_contour = ax2.contourf(X, Y, 1/dt_ratio, level, norm=colors.LogNorm())\n",
    "# dt_contour = ax2.contourf(X, Y, 1/dt_ratio, levels=64, locator=ticker.LogLocator(subs='all'))\n",
    "fig.colorbar(dt_contour)\n",
    "ax2.set_xlabel(r'$r_0$')\n",
    "ax2.set_ylabel('time step')\n",
    "                 \n",
    "plt.show()"
   ]
  },
  {
   "cell_type": "code",
   "execution_count": 128,
   "metadata": {},
   "outputs": [
    {
     "data": {
      "text/plain": [
       "array([-5., -4., -3., -2., -1.,  0.])"
      ]
     },
     "execution_count": 128,
     "metadata": {},
     "output_type": "execute_result"
    }
   ],
   "source": [
    "lev_exp"
   ]
  },
  {
   "cell_type": "code",
   "execution_count": 129,
   "metadata": {},
   "outputs": [
    {
     "data": {
      "text/plain": [
       "array([-5.        , -4.33333333, -3.66666667, -3.        , -2.33333333,\n",
       "       -1.66666667, -1.        , -0.33333333,  0.33333333,  1.        ])"
      ]
     },
     "execution_count": 129,
     "metadata": {},
     "output_type": "execute_result"
    }
   ],
   "source": [
    "np.linspace(np.floor(np.log10(Z.min())-1),\n",
    "                   np.ceil(np.log10(Z.max())+1), 10)"
   ]
  },
  {
   "cell_type": "code",
   "execution_count": null,
   "metadata": {},
   "outputs": [],
   "source": [
    "plt.figure()\n",
    "\n",
    "current_dt = T_mod / np.float64(Nsteps)\n",
    "current_v_rms = v_rms_transverse\n",
    "current_Q = 79\n",
    "\n",
    "plt.title(r'$ \\frac{dv_{e-}}{v_{e-}^{rms}} = \\frac{q_e E_{ion}(r_0) dt}{v_{e-}^{rms} m_{e-}}$', fontsize=24)\n",
    "\n",
    "r_0_vals = np.linspace(1e-14, 1e-11, 500)\n",
    "dt_vals = np.linspace(1e-15, 1e-11, 500)\n",
    "X, Y = np.meshgrid(r_0_vals, dt_vals)\n",
    "\n",
    "a\n",
    "plt.plot(r_0_vals * 1e12, normalized_velocity_kick(r_0_vals, current_dt, current_v_rms, current_Q), label=r'Q_{ion}=79')\n",
    "plt.plot(r_0_vals * 1e12, normalized_velocity_kick(r_0_vals, current_dt, current_v_rms, 1), label=r'Q_{ion}=1')\n",
    "plt.yscale('log')\n",
    "plt.ylabel(r'$dv_{e-}$ / $v_{e-}^{rms}$', fontsize=16)\n",
    "plt.xlabel('$r_0$ (pm)', fontsize=16)\n",
    "plt.legend()\n",
    "plt.annotate('dt={:2.2e}'.format(current_dt), xy=(0.7, 0.65), xycoords='figure fraction')\n",
    "plt.annotate(r'$v_{e-}^{rms}$='+'{:2.2e} m/s'.format(current_v_rms), xy=(0.7, 0.6), xycoords='figure fraction')\n",
    "plt.show()"
   ]
  }
 ],
 "metadata": {
  "kernelspec": {
   "display_name": "Python 3",
   "language": "python",
   "name": "py3"
  },
  "language_info": {
   "codemirror_mode": {
    "name": "ipython",
    "version": 3
   },
   "file_extension": ".py",
   "mimetype": "text/x-python",
   "name": "python",
   "nbconvert_exporter": "python",
   "pygments_lexer": "ipython3",
   "version": "3.7.2"
  }
 },
 "nbformat": 4,
 "nbformat_minor": 4
}
