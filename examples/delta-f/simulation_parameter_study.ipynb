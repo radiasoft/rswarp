{
 "cells": [
  {
   "cell_type": "code",
   "execution_count": 2,
   "metadata": {},
   "outputs": [],
   "source": [
    "from plasma import electric_field, normalized_velocity_kick, debye_length, plasma_frequency\n",
    "import numpy as np\n",
    "from scipy.constants import c, e, m_e, epsilon_0\n",
    "from scipy.constants import Boltzmann as k_b"
   ]
  },
  {
   "cell_type": "markdown",
   "metadata": {},
   "source": [
    "### Beam specifications"
   ]
  },
  {
   "cell_type": "code",
   "execution_count": 3,
   "metadata": {},
   "outputs": [],
   "source": [
    "# Relatistic quantities\n",
    "gamma0 = 42.66\n",
    "beta0 = np.sqrt(1. - 1. / (gamma0 * gamma0))"
   ]
  },
  {
   "cell_type": "markdown",
   "metadata": {},
   "source": [
    "#### Transverse Specs"
   ]
  },
  {
   "cell_type": "code",
   "execution_count": 4,
   "metadata": {},
   "outputs": [],
   "source": [
    "# Initial Courant-Snyder parameters (beam at the waist initially):\n",
    "alpha_x_ini = 0.0\n",
    "beta_x_ini = 4.5  # m\n",
    "gamma_x_ini = (1. + alpha_x_ini * alpha_x_ini) / beta_x_ini\n",
    "\n",
    "eps_n_rms_x = 5.0e-6  # m-rad, normalized rms emittance\n",
    "eps_rms_x = eps_n_rms_x / (gamma0 * beta0)  # m-rad, geometric emittance"
   ]
  },
  {
   "cell_type": "code",
   "execution_count": null,
   "metadata": {},
   "outputs": [],
   "source": [
    "x_rms_ini = np.sqrt(eps_rms_x * beta_x_ini)  # m\n",
    "xp_rms_ini = np.sqrt(eps_rms_x * gamma_x_ini)  # rms angular divergence, lab frame value\n",
    "v_rms_transverse = gamma0 * beta0 * c * xp_rms_ini  # velocity spread in beam frame"
   ]
  },
  {
   "cell_type": "markdown",
   "metadata": {},
   "source": [
    "#### Longitudinal Specs"
   ]
  },
  {
   "cell_type": "code",
   "execution_count": 5,
   "metadata": {},
   "outputs": [],
   "source": [
    "# Lab frame quantities\n",
    "slice_current = 100. # Amps from CeC PoP Exp\n",
    "slice_length = 4e-6  # We only simulate a small slice around one ion, full bunch length would be ~100 mm"
   ]
  },
  {
   "cell_type": "code",
   "execution_count": 6,
   "metadata": {},
   "outputs": [],
   "source": [
    "sigma_gamma_over_gamma = 1.0e-3  # rms energy spread in the lab frame\n",
    "vz_rms_ini = beta0 * c * sigma_gamma_over_gamma  # m/s"
   ]
  },
  {
   "cell_type": "markdown",
   "metadata": {},
   "source": [
    "### Derived Beam Quantities"
   ]
  },
  {
   "cell_type": "code",
   "execution_count": 8,
   "metadata": {},
   "outputs": [],
   "source": [
    "electrons_in_slice = slice_current * (slice_length / c) / e  # True number (NOT macroparticles)"
   ]
  },
  {
   "cell_type": "code",
   "execution_count": 37,
   "metadata": {},
   "outputs": [],
   "source": [
    "# Use the same density everywhere right now\n",
    "transverse_temperature_rms = 0.5 * m_e * (c*beta0*gamma0)**2 * np.sqrt(eps_rms_x / beta_x_ini)**2 / k_b\n",
    "transverse_density_rms = electrons_in_slice / ((2 * np.pi)**(1.5) * x_rms_ini * x_rms_ini * (slice_length * gamma0) )\n",
    "\n",
    "longitudinal_temperature_rms = 0.5 * m_e * c**2 * beta0**2 * sigma_gamma_over_gamma**2 / k_b\n",
    "longitudinal_density_rms = transverse_density_rms"
   ]
  },
  {
   "cell_type": "code",
   "execution_count": 38,
   "metadata": {},
   "outputs": [],
   "source": [
    "transverse_debye_length = debye_length(transverse_temperature_rms, transverse_density_rms)\n",
    "transverse_plasma_frequency = plasma_frequency(transverse_density_rms)\n",
    "longitudinal_debye_length = debye_length(longitudinal_temperature_rms, longitudinal_density_rms)\n",
    "longitudinal_plasma_frequency = plasma_frequency(longitudinal_density_rms)"
   ]
  },
  {
   "cell_type": "markdown",
   "metadata": {},
   "source": [
    "Longitudinal Debye length calculated in https://www.bnl.gov/isd/documents/86221.pdf\n",
    "is $\\lambda_D$ = 42 $\\mu m$"
   ]
  },
  {
   "cell_type": "code",
   "execution_count": 62,
   "metadata": {},
   "outputs": [
    {
     "name": "stdout",
     "output_type": "stream",
     "text": [
      "Transverse Debye length (um): 337.5\n",
      "Longitudinal Debye length (um): 49.0\n",
      "Plasma period (ns): 1.5\n"
     ]
    }
   ],
   "source": [
    "print('Transverse Debye length (um): {:3.1f}'.format(transverse_debye_length * 1e6))\n",
    "# print('Transverse Plasma period (ns): {:3.1f}'.format(2 * np.pi / transverse_plasma_frequency * 1e9))\n",
    "print('Longitudinal Debye length (um): {:3.1f}'.format(longitudinal_debye_length * 1e6))\n",
    "print('Plasma period (ns): {:3.1f}'.format(2 * np.pi / longitudinal_plasma_frequency * 1e9))"
   ]
  },
  {
   "cell_type": "code",
   "execution_count": 70,
   "metadata": {},
   "outputs": [],
   "source": [
    "avg_ee_distance = 1. / transverse_density_rms**(1/3.)"
   ]
  },
  {
   "cell_type": "code",
   "execution_count": 71,
   "metadata": {},
   "outputs": [
    {
     "name": "stdout",
     "output_type": "stream",
     "text": [
      "Average inter-particle distance (um): 5.5\n"
     ]
    }
   ],
   "source": [
    "print('Average inter-particle distance (um): {:3.1f}'.format(avg_ee_distance * 1e6))"
   ]
  },
  {
   "cell_type": "markdown",
   "metadata": {},
   "source": [
    "### Test Modulator Parameters"
   ]
  },
  {
   "cell_type": "code",
   "execution_count": 11,
   "metadata": {},
   "outputs": [],
   "source": [
    "# Simulation Steps\n",
    "Nsteps = 5000\n",
    "L_mod = 3.7  # m, modulator section length in the lab frame\n",
    "T_mod = L_mod / (gamma0 * beta0 * c)  # sim time in the _beam_ frame"
   ]
  },
  {
   "cell_type": "markdown",
   "metadata": {},
   "source": [
    "# Plotting"
   ]
  },
  {
   "cell_type": "code",
   "execution_count": 12,
   "metadata": {},
   "outputs": [],
   "source": [
    "import matplotlib.pyplot as plt\n",
    "from matplotlib import ticker, colors"
   ]
  },
  {
   "cell_type": "code",
   "execution_count": 13,
   "metadata": {},
   "outputs": [],
   "source": [
    "%matplotlib widget"
   ]
  },
  {
   "cell_type": "code",
   "execution_count": 72,
   "metadata": {},
   "outputs": [
    {
     "data": {
      "application/vnd.jupyter.widget-view+json": {
       "model_id": "11240900f3874f7bba6e901e927c3731",
       "version_major": 2,
       "version_minor": 0
      },
      "text/plain": [
       "Canvas(toolbar=Toolbar(toolitems=[('Home', 'Reset original view', 'home', 'home'), ('Back', 'Back to previous …"
      ]
     },
     "metadata": {},
     "output_type": "display_data"
    }
   ],
   "source": [
    "plt.figure()\n",
    "\n",
    "current_dt = T_mod / np.float64(Nsteps)\n",
    "current_v_rms = v_rms_transverse\n",
    "current_Q = 79\n",
    "plasma_freq_dt = (2 * np.pi / longitudinal_plasma_frequency) / 20.\n",
    "\n",
    "\n",
    "plt.title(r'$ \\frac{dv_{e-}}{v_{e-}^{rms}} = \\frac{q_e E_{ion}(r_0)}{v_{e-}^{rms} m_{e-}} dt$', fontsize=24)\n",
    "# Values I have simulated\n",
    "r_0_vals = np.linspace(1e-14, 1e-11, )\n",
    "\n",
    "# Plot Gold for Warp timestep and value based on fraction of plasma period\n",
    "plt.plot(r_0_vals * 1e12, normalized_velocity_kick(r_0_vals, current_dt, current_v_rms, current_Q), label=r'$Q_{ion}$=79,' +'dt={:2.1e}'.format(current_dt))\n",
    "plt.plot(r_0_vals * 1e12, normalized_velocity_kick(r_0_vals, plasma_freq_dt, current_v_rms, current_Q), label=r'$Q_{ion}$=79,'+' dt={:2.1e}'.format(plasma_freq_dt))\n",
    "plt.scatter(np.array([1e-13, 5e-15]) * 1e12, normalized_velocity_kick(np.array([1e-13, 5e-15]), current_dt, current_v_rms, current_Q))\n",
    "\n",
    "# Protons for comparison\n",
    "plt.plot(r_0_vals * 1e12, normalized_velocity_kick(r_0_vals, current_dt, current_v_rms, 1), label=r'$Q_{ion}$=1')\n",
    "plt.yscale('log')\n",
    "plt.ylabel(r'$dv_{e-}$ / $v_{e-}^{rms}$', fontsize=16)\n",
    "plt.xlabel('$r_0$ (pm)', fontsize=16)\n",
    "plt.legend()\n",
    "plt.annotate('Current Warp dt={:2.2e} s'.format(current_dt), xy=(0.59, 0.68), xycoords='figure fraction')\n",
    "plt.annotate(r'$v_{e-}^{rms}$='+'{:2.2e} m/s'.format(current_v_rms), xy=(0.59, 0.63), xycoords='figure fraction')\n",
    "plt.show()"
   ]
  },
  {
   "cell_type": "markdown",
   "metadata": {},
   "source": [
    "# Quick, Order-of-magnitude Check on delta-f weight update limitation\n",
    "Not sure if this is correct or relevant. Assumes prior step weight update was 'small'. This calculation right now suggests weight update will always be small (<<1) for any sane time step."
   ]
  },
  {
   "cell_type": "code",
   "execution_count": 44,
   "metadata": {},
   "outputs": [],
   "source": [
    "v_norm = v_rms_transverse * (1 / gamma0) / c / (gamma0 * beta0)"
   ]
  },
  {
   "cell_type": "code",
   "execution_count": 47,
   "metadata": {},
   "outputs": [
    {
     "data": {
      "text/plain": [
       "0.10975798405410368"
      ]
     },
     "execution_count": 47,
     "metadata": {},
     "output_type": "execute_result"
    }
   ],
   "source": [
    "(e / m_e) * (1 * x_rms_ini + v_norm * 1) * electric_field(1e-13, 79)*e / (gamma0 * beta0 * eps_n_rms_x)"
   ]
  },
  {
   "cell_type": "markdown",
   "metadata": {},
   "source": [
    "# Look at timestep / r0 limitations for drift case assuming typical cell crossing limits\n",
    "Order of magnitude study. Assumes $\\beta_x$ ~ 20 m and uses a safety factor on max velocity of 6*$\\sigma_{vx}$"
   ]
  },
  {
   "cell_type": "code",
   "execution_count": 73,
   "metadata": {},
   "outputs": [],
   "source": [
    "# cell size if Twiss beta goes up to 20\n",
    "number_of_cells = 32\n",
    "cell_size = np.sqrt(eps_rms_x * 20) / number_of_cells\n",
    "# dt_min = cell_size / v_max"
   ]
  },
  {
   "cell_type": "markdown",
   "metadata": {},
   "source": [
    "Fix softening value $r_0$ then for a given timestep $dt$ the minimum time for any particle  to cross a cell of width $dx$ is $dt_{min}=\\frac{dx}{6\\sigma_{vx}+v_{max}^{\\rm ion kick}(r_0, dt)}$\n",
    "\n",
    "Plot $dt_{min}$ / $dt$ as we scan $dt$. Want this to stay less than 1 to prevent too many particles from crossing a cell in less than 1 timestep"
   ]
  },
  {
   "cell_type": "code",
   "execution_count": 75,
   "metadata": {},
   "outputs": [
    {
     "data": {
      "application/vnd.jupyter.widget-view+json": {
       "model_id": "f12babb160d7431d9f1a4f1da88b80d4",
       "version_major": 2,
       "version_minor": 0
      },
      "text/plain": [
       "Canvas(toolbar=Toolbar(toolitems=[('Home', 'Reset original view', 'home', 'home'), ('Back', 'Back to previous …"
      ]
     },
     "metadata": {},
     "output_type": "display_data"
    }
   ],
   "source": [
    "fig, ax1 = plt.subplots(1, 1)\n",
    "\n",
    "current_dt = T_mod / np.float64(Nsteps)\n",
    "current_v_rms = v_rms_transverse\n",
    "current_Q = 79\n",
    "\n",
    "dt_vals = np.linspace(10e-14, 3e-12, 500)\n",
    "\n",
    "dt_ratio = cell_size / (current_v_rms * 6 + current_v_rms *normalized_velocity_kick(1e-13, dt_vals, current_v_rms, current_Q)) / dt_vals\n",
    "ax1.plot(1e12*dt_vals, 1/dt_ratio, label=r'$r_0$ = 100 fm')\n",
    "\n",
    "dt_ratio = cell_size / (current_v_rms * 6 + current_v_rms*normalized_velocity_kick(5e-15, dt_vals, current_v_rms, current_Q)) / dt_vals\n",
    "ax1.plot(1e12*dt_vals, 1/dt_ratio, label=r'$r_0$ = 5 fm')\n",
    "\n",
    "ax1.set_xlabel('dt (ps)')\n",
    "ax1.set_ylabel(r'$\\frac{dx}{v_{max}(r_0)}$ / dt')\n",
    "ax1.legend()\n",
    "                 \n",
    "plt.show()"
   ]
  },
  {
   "cell_type": "markdown",
   "metadata": {},
   "source": [
    "Sweep over time step $dt$ and $r_0$ and look at requirement that $dv$ * $dt$ < $\\lambda_D$\n",
    "\n",
    "use longitudinal $\\lambda_D$ as it is the smaller of transverse and longitudinal values"
   ]
  },
  {
   "cell_type": "code",
   "execution_count": 78,
   "metadata": {},
   "outputs": [
    {
     "data": {
      "application/vnd.jupyter.widget-view+json": {
       "model_id": "5cc988f4d6204f7997072bc26fe2015c",
       "version_major": 2,
       "version_minor": 0
      },
      "text/plain": [
       "Canvas(toolbar=Toolbar(toolitems=[('Home', 'Reset original view', 'home', 'home'), ('Back', 'Back to previous …"
      ]
     },
     "metadata": {},
     "output_type": "display_data"
    }
   ],
   "source": [
    "fig, ax1 = plt.subplots(1, 1, figsize=(12, 6))\n",
    "\n",
    "ax1.set_title(r'dv * dt  / $\\lambda_D$')\n",
    "current_dt = T_mod / np.float64(Nsteps)\n",
    "current_v_rms = v_rms_transverse\n",
    "current_Q = 79\n",
    "\n",
    "r_0_vals = np.linspace(1e-14, 1e-11, 500)\n",
    "dt_vals = np.linspace(3e-14, 1e-12, 500)\n",
    "X, Y = np.meshgrid(r_0_vals, dt_vals)\n",
    "Z = normalized_velocity_kick(X, Y, current_v_rms, current_Q) * current_v_rms * Y / longitudinal_debye_length\n",
    "r0_contour = ax1.contourf(X * 1e12, Y * 1e12, Z, levels=64, locator=ticker.LogLocator(subs='all'))\n",
    "ax1.set_xlabel(r'$r_0$ (pm)')\n",
    "ax1.set_ylabel('dt (ps)')\n",
    "fig.colorbar(r0_contour)\n",
    "\n",
    "                 \n",
    "plt.show()"
   ]
  },
  {
   "cell_type": "markdown",
   "metadata": {},
   "source": [
    "## Work in progress  - logarithmic scales are not nice with contourf"
   ]
  },
  {
   "cell_type": "code",
   "execution_count": 37,
   "metadata": {},
   "outputs": [
    {
     "data": {
      "application/vnd.jupyter.widget-view+json": {
       "model_id": "fb3e07b61e314fdeb73d3f77eda34b1c",
       "version_major": 2,
       "version_minor": 0
      },
      "text/plain": [
       "Canvas(toolbar=Toolbar(toolitems=[('Home', 'Reset original view', 'home', 'home'), ('Back', 'Back to previous …"
      ]
     },
     "metadata": {},
     "output_type": "display_data"
    }
   ],
   "source": [
    "fig, (ax1, ax2) = plt.subplots(1, 2, figsize=(12, 6))\n",
    "\n",
    "current_dt = T_mod / np.float64(Nsteps)\n",
    "current_v_rms = v_rms_transverse\n",
    "current_Q = 79\n",
    "\n",
    "r_0_vals = np.linspace(1e-15, 1e-13, 500)\n",
    "dt_vals = np.linspace(1e-15, 1e-12, 500)\n",
    "X, Y = np.meshgrid(r_0_vals, dt_vals)\n",
    "\n",
    "r0_contour = ax1.contourf(X, Y, normalized_velocity_kick(X, Y, current_v_rms, current_Q), levels=64, locator=ticker.LogLocator(subs='all'))\n",
    "ax1.set_xlabel(r'$r_0$')\n",
    "ax1.set_ylabel('time step')\n",
    "fig.colorbar(r0_contour)\n",
    "dt_ratio = dx / (current_v_rms * 6 + current_v_rms*normalized_velocity_kick(X, Y, current_v_rms, current_Q)) / Y\n",
    "Z = 1/dt_ratio\n",
    "lev_exp = np.linspace(np.floor(np.log10(Z.min())-1),\n",
    "                   np.ceil(np.log10(Z.max())+1), 10)\n",
    "level = np.power(10, lev_exp)\n",
    "dt_contour = ax2.contourf(X, Y, 1/dt_ratio, level, norm=colors.LogNorm())\n",
    "# dt_contour = ax2.contourf(X, Y, 1/dt_ratio, levels=64, locator=ticker.LogLocator(subs='all'))\n",
    "fig.colorbar(dt_contour)\n",
    "ax2.set_xlabel(r'$r_0$')\n",
    "ax2.set_ylabel('time step')\n",
    "                 \n",
    "plt.show()"
   ]
  },
  {
   "cell_type": "code",
   "execution_count": 38,
   "metadata": {},
   "outputs": [
    {
     "data": {
      "text/plain": [
       "array([-5.        , -4.33333333, -3.66666667, -3.        , -2.33333333,\n",
       "       -1.66666667, -1.        , -0.33333333,  0.33333333,  1.        ])"
      ]
     },
     "execution_count": 38,
     "metadata": {},
     "output_type": "execute_result"
    }
   ],
   "source": [
    "lev_exp"
   ]
  },
  {
   "cell_type": "code",
   "execution_count": 39,
   "metadata": {},
   "outputs": [
    {
     "data": {
      "text/plain": [
       "array([-5.        , -4.33333333, -3.66666667, -3.        , -2.33333333,\n",
       "       -1.66666667, -1.        , -0.33333333,  0.33333333,  1.        ])"
      ]
     },
     "execution_count": 39,
     "metadata": {},
     "output_type": "execute_result"
    }
   ],
   "source": [
    "np.linspace(np.floor(np.log10(Z.min())-1),\n",
    "                   np.ceil(np.log10(Z.max())+1), 10)"
   ]
  },
  {
   "cell_type": "code",
   "execution_count": null,
   "metadata": {},
   "outputs": [],
   "source": []
  }
 ],
 "metadata": {
  "kernelspec": {
   "display_name": "Python 3",
   "language": "python",
   "name": "py3"
  },
  "language_info": {
   "codemirror_mode": {
    "name": "ipython",
    "version": 3
   },
   "file_extension": ".py",
   "mimetype": "text/x-python",
   "name": "python",
   "nbconvert_exporter": "python",
   "pygments_lexer": "ipython3",
   "version": "3.7.2"
  }
 },
 "nbformat": 4,
 "nbformat_minor": 4
}
