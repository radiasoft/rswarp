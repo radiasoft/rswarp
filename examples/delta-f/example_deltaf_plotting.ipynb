{
 "cells": [
  {
   "cell_type": "code",
   "execution_count": 1,
   "metadata": {},
   "outputs": [],
   "source": [
    "%matplotlib widget"
   ]
  },
  {
   "cell_type": "code",
   "execution_count": 2,
   "metadata": {},
   "outputs": [],
   "source": [
    "import os, re\n",
    "import numpy as np\n",
    "import h5py as h5\n",
    "import matplotlib.pyplot as plt\n",
    "from scipy.constants import m_e, c\n",
    "from rswarp.run_files.delta_f import delta_f_tools as dft"
   ]
  },
  {
   "cell_type": "markdown",
   "metadata": {},
   "source": [
    "# Helper Functions"
   ]
  },
  {
   "cell_type": "code",
   "execution_count": 3,
   "metadata": {},
   "outputs": [],
   "source": [
    "def bin_data(data, bins=32):\n",
    "    heights, edges = np.histogram(data, bins=bins)\n",
    "    centers = [(edges[i] + edges[i + 1]) / 2. for i in range(len(edges)-1)]\n",
    "    return heights, centers\n",
    "\n",
    "def get_rms_warp(diags):\n",
    "    data = os.listdir(diags)\n",
    "    sx, sy, sz, step = [], [], [], []\n",
    "    for file in data:\n",
    "        if file[0] == '.':\n",
    "            continue\n",
    "        path = os.path.join(diags, file)\n",
    "        coord = h5.File(path, 'r')\n",
    "        stepn = int(re.findall(r'\\d+', file)[0])\n",
    "        xf_warp = coord['data/{}/particles/Electron/position/x'.format(stepn)][()]\n",
    "        yf_warp = coord['data/{}/particles/Electron/position/y'.format(stepn)][()]\n",
    "        zf_warp = coord['data/{}/particles/Electron/position/z'.format(stepn)][()]\n",
    "        sx.append(np.std(xf_warp))\n",
    "        sy.append(np.std(yf_warp))\n",
    "        sz.append(np.std(zf_warp))\n",
    "        step.append(stepn)\n",
    "        coord.close()\n",
    "        \n",
    "    return sx, sy, sz, step"
   ]
  },
  {
   "cell_type": "markdown",
   "metadata": {},
   "source": [
    "# Physical Settings"
   ]
  },
  {
   "cell_type": "code",
   "execution_count": 4,
   "metadata": {},
   "outputs": [],
   "source": [
    "L_mod = 3.7  # m"
   ]
  },
  {
   "cell_type": "code",
   "execution_count": 5,
   "metadata": {},
   "outputs": [],
   "source": [
    "gamma0 = 42.66  # assumed exact\n",
    "beta0 = np.sqrt(1. - 1. / (gamma0 * gamma0))"
   ]
  },
  {
   "cell_type": "code",
   "execution_count": 6,
   "metadata": {},
   "outputs": [],
   "source": [
    "alpha_x_ini = 0.0\n",
    "alpha_y_ini = 0.0\n",
    "beta_x_ini = 4.5  # m\n",
    "beta_y_ini = 4.5  # m\n",
    "eps_n_rms_x = 5.0e-6  # m-rad, normalized rms emittance\n",
    "eps_n_rms_y = 5.0e-6  # m-rad, normalized rms emittance\n",
    "eps_rms_x = eps_n_rms_x / (gamma0 * beta0)\n",
    "eps_rms_y = eps_n_rms_y / (gamma0 * beta0)"
   ]
  },
  {
   "cell_type": "markdown",
   "metadata": {},
   "source": [
    "# Plotting"
   ]
  },
  {
   "cell_type": "code",
   "execution_count": 7,
   "metadata": {},
   "outputs": [],
   "source": [
    "diagnostic_path = 'diags_10/hdf5/'\n",
    "final_step =  5000"
   ]
  },
  {
   "cell_type": "code",
   "execution_count": 11,
   "metadata": {},
   "outputs": [],
   "source": [
    "warpf = h5.File(os.path.join(diagnostic_path, 'data{:08d}.h5'.format(final_step)), 'r')"
   ]
  },
  {
   "cell_type": "code",
   "execution_count": 12,
   "metadata": {},
   "outputs": [],
   "source": [
    "xf_warp = warpf['data/{}/particles/Electron/position/x'.format(final_step)][()]\n",
    "yf_warp = warpf['data/{}/particles/Electron/position/y'.format(final_step)][()]\n",
    "zf_warp = warpf['data/{}/particles/Electron/position/z'.format(final_step)][()]\n",
    "vxf_warp = warpf['data/{}/particles/Electron/momentum/x'.format(final_step)][()]\n",
    "vyf_warp = warpf['data/{}/particles/Electron/momentum/y'.format(final_step)][()]\n",
    "vzf_warp = warpf['data/{}/particles/Electron/momentum/z'.format(final_step)][()]"
   ]
  },
  {
   "cell_type": "code",
   "execution_count": 13,
   "metadata": {},
   "outputs": [],
   "source": [
    "dt =  warpf['data/{}'.format(final_step)].attrs['dt']"
   ]
  },
  {
   "cell_type": "code",
   "execution_count": 14,
   "metadata": {},
   "outputs": [],
   "source": [
    "warpf.close()"
   ]
  },
  {
   "cell_type": "markdown",
   "metadata": {},
   "source": [
    "### Beam Expansion"
   ]
  },
  {
   "cell_type": "code",
   "execution_count": 15,
   "metadata": {},
   "outputs": [],
   "source": [
    "sx, sy, sz, step = get_rms_warp(diagnostic_path)"
   ]
  },
  {
   "cell_type": "code",
   "execution_count": 16,
   "metadata": {},
   "outputs": [],
   "source": [
    "s = np.linspace(0, L_mod, 500)\n",
    "beta_x = np.array([dft.drift_twiss(l, beta_x_ini, alpha_x_ini)[1] for l in s])"
   ]
  },
  {
   "cell_type": "code",
   "execution_count": 17,
   "metadata": {},
   "outputs": [
    {
     "data": {
      "application/vnd.jupyter.widget-view+json": {
       "model_id": "73fb971114fa47cd9cf94795c150e8a4",
       "version_major": 2,
       "version_minor": 0
      },
      "text/plain": [
       "Canvas(toolbar=Toolbar(toolitems=[('Home', 'Reset original view', 'home', 'home'), ('Back', 'Back to previous …"
      ]
     },
     "metadata": {},
     "output_type": "display_data"
    }
   ],
   "source": [
    "fig, (ax1, ax2) = plt.subplots(1, 2, figsize=(12, 6))\n",
    "ax1.plot(s,\n",
    "         np.sqrt(beta_x * eps_rms_x), label='benchmark: Sx', lw=4)\n",
    "ax1.plot(np.array(step)*dt*beta0*c * gamma0, \n",
    "         sx, '.', label='Warp: Sx', ms=8)\n",
    "ax1.legend()\n",
    "ax1.set_ylabel('$\\sigma_x$ (m)')\n",
    "ax1.set_xlabel('$s_{lab}$ (m)')\n",
    "\n",
    "# Assume symmetric \n",
    "ax2.plot(s,\n",
    "         np.sqrt(beta_x * eps_rms_y), label='benchmark: Sy', lw=4)\n",
    "ax2.plot(np.array(step)*dt*beta0*c * gamma0, \n",
    "         sy, '.', label='Warp: Sy', ms=8)\n",
    "ax2.set_ylabel('$\\sigma_y$ (m)')\n",
    "ax2.set_xlabel('$s_{lab}$ (m)')\n",
    "ax2.legend()\n",
    "plt.tight_layout()\n",
    "plt.show()"
   ]
  },
  {
   "cell_type": "markdown",
   "metadata": {},
   "source": [
    "### Final distribution"
   ]
  },
  {
   "cell_type": "code",
   "execution_count": 18,
   "metadata": {},
   "outputs": [
    {
     "data": {
      "application/vnd.jupyter.widget-view+json": {
       "model_id": "43aed98cf69746e89d629fcd41c4c81c",
       "version_major": 2,
       "version_minor": 0
      },
      "text/plain": [
       "Canvas(toolbar=Toolbar(toolitems=[('Home', 'Reset original view', 'home', 'home'), ('Back', 'Back to previous …"
      ]
     },
     "metadata": {},
     "output_type": "display_data"
    }
   ],
   "source": [
    "fig, ax = plt.subplots(2, 3, figsize=(16, 8))\n",
    "\n",
    "wh, wc = bin_data(xf_warp, bins=64)\n",
    "ax[0,0].plot(wc, wh, label='Warp: Xf', lw=5)\n",
    "ax[0,0].legend()\n",
    "ax[0,0].set_xlabel('x (m)')\n",
    "\n",
    "wh, wc = bin_data(yf_warp, bins=64)\n",
    "ax[0,1].plot(wc, wh, label='Warp: Yf', lw=5)\n",
    "ax[0,1].legend()\n",
    "ax[0,1].set_xlabel('y (m)')\n",
    "\n",
    "wh, wc = bin_data(zf_warp, bins=64)\n",
    "ax[0,2].plot(wc, wh, label='Warp: Zf', lw=5)\n",
    "ax[0,2].legend()\n",
    "ax[0,2].set_xlabel('z (m)')\n",
    "\n",
    "wh, wc = bin_data(vxf_warp / (m_e * c), bins=64)\n",
    "ax[1,0].plot(wc, wh, label='Warp: VXf', lw=5)\n",
    "ax[1,0].legend()\n",
    "ax[1,0].set_xlabel(r'$\\beta_x$ ( )')\n",
    "\n",
    "wh, wc = bin_data(vyf_warp / (m_e * c), bins=64)\n",
    "ax[1,1].plot(wc, wh, label='Warp: VYf', lw=5)\n",
    "ax[1,1].legend()\n",
    "ax[1,1].set_xlabel(r'$\\beta_y$ ( )')\n",
    "\n",
    "wh, wc = bin_data(vzf_warp / (m_e * c), bins=64)\n",
    "ax[1,2].plot(wc, wh, label='Warp: Zf', lw=5)\n",
    "ax[1,2].legend()\n",
    "ax[1,2].set_xlabel(r'$\\beta_y$ ( )')\n",
    "\n",
    "\n",
    "\n",
    "plt.show()"
   ]
  },
  {
   "cell_type": "markdown",
   "metadata": {},
   "source": [
    "### Weighted Plots"
   ]
  },
  {
   "cell_type": "code",
   "execution_count": 19,
   "metadata": {},
   "outputs": [],
   "source": [
    "# New file loading with option to compare multiple datasets in the 1D projection\n",
    "# Add path to `paths`\n",
    "step_num = 5000\n",
    "paths = [os.path.join(diagnostic_path, 'data{:08d}.h5'.format(step_num)), ]"
   ]
  },
  {
   "cell_type": "code",
   "execution_count": 20,
   "metadata": {},
   "outputs": [],
   "source": [
    "particle_data = []\n",
    "for p in paths:\n",
    "    fh5 = h5.File(p, 'r')\n",
    "    x_warp = fh5['data/{}/particles/Electron/position/x'.format(step_num)][()]\n",
    "    y_warp = fh5['data/{}/particles/Electron/position/y'.format(step_num)][()]\n",
    "    z_warp = fh5['data/{}/particles/Electron/position/z'.format(step_num)][()]\n",
    "\n",
    "    w_warp = fh5['data/{}/particles/Electron/weighting'.format(step_num)][()]\n",
    "    new_p = np.array([x_warp, y_warp, z_warp, w_warp]).T\n",
    "    particle_data.append(new_p.copy())\n",
    "    \n",
    "vel_particle_data = []\n",
    "for p in paths:\n",
    "    fh5 = h5.File(p, 'r')\n",
    "    vx_warp = fh5['data/{}/particles/Electron/momentum/x'.format(step_num)][()]/ (m_e * c)\n",
    "    vy_warp = fh5['data/{}/particles/Electron/momentum/y'.format(step_num)][()]/ (m_e * c)\n",
    "    vz_warp = fh5['data/{}/particles/Electron/momentum/z'.format(step_num)][()]/ (m_e * c)\n",
    "\n",
    "    w_warp = fh5['data/{}/particles/Electron/weighting'.format(step_num)][()]\n",
    "    new_p = np.array([vx_warp, vy_warp, vz_warp, w_warp]).T\n",
    "    vel_particle_data.append(new_p.copy())"
   ]
  },
  {
   "cell_type": "code",
   "execution_count": 21,
   "metadata": {},
   "outputs": [
    {
     "name": "stdout",
     "output_type": "stream",
     "text": [
      "Total macroparticles: 2621440\n",
      "Total weight: -0.049132405496546475\n",
      "Weight per particle: -1.8742525290125456e-08\n",
      "\n"
     ]
    }
   ],
   "source": [
    "for dat in particle_data:\n",
    "    print('Total macroparticles: {}'.format(dat[:,-1].size))\n",
    "    print('Total weight: {}'.format(np.sum(dat[:, -1])))\n",
    "    print('Weight per particle: {}\\n'.format(np.sum(dat[:, -1]) / dat[:,-1].size))"
   ]
  },
  {
   "cell_type": "markdown",
   "metadata": {},
   "source": [
    "#### 1D Projections"
   ]
  },
  {
   "cell_type": "code",
   "execution_count": 22,
   "metadata": {},
   "outputs": [
    {
     "data": {
      "application/vnd.jupyter.widget-view+json": {
       "model_id": "463af391f863439eb74c9943a7984e25",
       "version_major": 2,
       "version_minor": 0
      },
      "text/plain": [
       "Canvas(toolbar=Toolbar(toolitems=[('Home', 'Reset original view', 'home', 'home'), ('Back', 'Back to previous …"
      ]
     },
     "metadata": {},
     "output_type": "display_data"
    }
   ],
   "source": [
    "fig, (ax1, ax2, ax3) = plt.subplots(1, 3, figsize=(14, 9))\n",
    "fig.suptitle('Projected Density Distributions Weighted by $\\delta - f$  Weights\\nNormalized by Individual Maximum')\n",
    "\n",
    "\n",
    "bins = 64#int(dat.shape[0] / base_particles_per_bin)\n",
    "for i, dat in enumerate(particle_data):\n",
    "    ptcl_per_bin = dat.shape[0] / bins\n",
    "    heights, edges = np.histogram(dat[:, 0], weights=dat[:, -1], bins=bins)\n",
    "    centers = np.array([(edges[i] + edges[i + 1]) / 2. for i in range(len(edges)-1)])\n",
    "    ax1.plot(centers * 1e3, heights / np.max(heights),label='{:1.2e}    {:3}    {:5.0f}'.format(dat.shape[0], bins, ptcl_per_bin), lw=7 - 2 * i)\n",
    "    ax1.set_xlabel('x (mm)')\n",
    "    ax1.legend(title='    Macroparticles | Bins | MP/Bin', fontsize=8)\n",
    "\n",
    "\n",
    "    heights, edges = np.histogram(dat[:,1], weights=dat[:,-1], bins=bins)\n",
    "    centers = np.array([(edges[i] + edges[i + 1]) / 2. for i in range(len(edges)-1)])\n",
    "    ax2.plot(centers * 1e3, heights / np.max(heights),label='{:1.2e}    {:3}    {:5.0f}'.format(dat.shape[0], bins, ptcl_per_bin), lw=7 - 2 * i)\n",
    "    ax2.set_xlabel('y (mm)')\n",
    "    ax2.legend(title='    Macroparticles | Bins | MP/Bin', fontsize=8)\n",
    "\n",
    "\n",
    "    heights, edges = np.histogram(dat[:,2], weights=dat[:,-1], bins=bins)\n",
    "    centers = np.array([(edges[i] + edges[i + 1]) / 2. for i in range(len(edges)-1)])\n",
    "    ax3.plot(centers * 1e3, heights / np.max(heights), label='{:1.2e}    {:3}    {:5.0f}'.format(dat.shape[0], bins, ptcl_per_bin), lw=7 - 2 * i)\n",
    "    ax3.set_xlabel('z (mm)')\n",
    "    ax3.legend(title='    Macroparticles | Bins | MP/Bin', fontsize=8)\n",
    "\n",
    "plt.show()"
   ]
  },
  {
   "cell_type": "markdown",
   "metadata": {},
   "source": [
    "#### 2D projection"
   ]
  },
  {
   "cell_type": "code",
   "execution_count": 23,
   "metadata": {},
   "outputs": [],
   "source": [
    "distr = particle_data[-1]\n",
    "vdistr = vel_particle_data[-1]"
   ]
  },
  {
   "cell_type": "code",
   "execution_count": 24,
   "metadata": {},
   "outputs": [
    {
     "data": {
      "application/vnd.jupyter.widget-view+json": {
       "model_id": "a7767aebfcb84cf5baebe07e04dfbf4e",
       "version_major": 2,
       "version_minor": 0
      },
      "text/plain": [
       "Canvas(toolbar=Toolbar(toolitems=[('Home', 'Reset original view', 'home', 'home'), ('Back', 'Back to previous …"
      ]
     },
     "metadata": {},
     "output_type": "display_data"
    }
   ],
   "source": [
    "fig, (ax1, ax2, ax3) = plt.subplots(1, 3, figsize=(12, 4), gridspec_kw={\n",
    "                           'width_ratios': [1, 1, 1.21]})\n",
    "i = 0\n",
    "z, x, y = np.histogram2d(distr[:, i],\n",
    "           vdistr[:, i], bins=20, weights=distr[:, -1])\n",
    "ax1.imshow(z, cmap='coolwarm', interpolation='gaussian', origin='lower', aspect='auto',\n",
    "           extent=(np.min(distr[:, i]),np.max(distr[:, i]), np.min(vdistr[:, i]),np.max(vdistr[:, i])))\n",
    "ax1.set_xlabel('x (mm)')\n",
    "ax1.set_ylabel(r'$\\beta_x$ ()')\n",
    "\n",
    "i = 1\n",
    "z, x, y = np.histogram2d(distr[:, i],\n",
    "           vdistr[:, i], bins=20, weights=distr[:, -1])\n",
    "ax2.imshow(z, cmap='coolwarm', interpolation='gaussian', origin='lower', aspect='auto',\n",
    "           extent=(np.min(distr[:, i]),np.max(distr[:, i]), np.min(vdistr[:, i]),np.max(vdistr[:, i])))\n",
    "ax2.set_xlabel('y (mm)')\n",
    "ax2.set_ylabel(r'$\\beta_y$ ()')\n",
    "\n",
    "\n",
    "i = 2\n",
    "z, x, y = np.histogram2d(distr[:, i],\n",
    "           vdistr[:, i], bins=20, weights=distr[:, -1])\n",
    "aa3 = ax3.imshow(z, cmap='coolwarm', interpolation='gaussian', origin='lower', aspect='auto',\n",
    "           extent=(np.min(distr[:, i]),np.max(distr[:, i]), np.min(vdistr[:, i]),np.max(vdistr[:, i])))\n",
    "ax3.set_xlabel('z (mm)')\n",
    "ax3.set_ylabel(r'$\\beta_z$ ()')\n",
    "\n",
    "\n",
    "clb = plt.colorbar(aa3)\n",
    "clb.ax.set_title('Density\\n(arb. units)')\n",
    "plt.tight_layout()\n",
    "\n",
    "plt.show()"
   ]
  },
  {
   "cell_type": "code",
   "execution_count": null,
   "metadata": {},
   "outputs": [],
   "source": []
  }
 ],
 "metadata": {
  "kernelspec": {
   "display_name": "Python 3",
   "language": "python",
   "name": "py3"
  },
  "language_info": {
   "codemirror_mode": {
    "name": "ipython",
    "version": 3
   },
   "file_extension": ".py",
   "mimetype": "text/x-python",
   "name": "python",
   "nbconvert_exporter": "python",
   "pygments_lexer": "ipython3",
   "version": "3.7.2"
  }
 },
 "nbformat": 4,
 "nbformat_minor": 4
}
