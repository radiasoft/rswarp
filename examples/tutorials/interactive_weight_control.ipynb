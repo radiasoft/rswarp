{
 "cells": [
  {
   "cell_type": "code",
   "execution_count": 1,
   "metadata": {},
   "outputs": [
    {
     "name": "stdout",
     "output_type": "stream",
     "text": [
      "# Warp\n",
      "# Origin date: Tue, 7 Jan 2020 09:31:24 -0700\n",
      "# Local date: Tue, 7 Jan 2020 09:31:24 -0700\n",
      "# Commit hash: 4ebb54f\n",
      "# /home/vagrant/.pyenv/versions/py3/lib/python3.7/site-packages/warp/warp.py\n",
      "# /home/vagrant/.pyenv/versions/py3/lib/python3.7/site-packages/warp/warpC.cpython-37m-x86_64-linux-gnu.so\n",
      "# Tue May  5 22:19:36 2020\n",
      "# import warp time 0.09468960762023926 seconds\n",
      "# For more help, type warphelp()\n",
      " ***  particle simulation package W3D generating\n",
      " ---  Resetting lattice array sizes\n",
      " ---  Allocating space for particles\n",
      " ---  Loading particles\n",
      " ---  Setting charge density\n",
      " ---  done\n",
      " ---  Allocating Win_Moments\n",
      " ---  Allocating Z_Moments\n",
      " ---  Allocating Lab_Moments\n"
     ]
    }
   ],
   "source": [
    "%run variable_weights.py"
   ]
  },
  {
   "cell_type": "code",
   "execution_count": 2,
   "metadata": {},
   "outputs": [],
   "source": [
    "import matplotlib.pyplot as plt"
   ]
  },
  {
   "cell_type": "markdown",
   "metadata": {},
   "source": [
    "# Setting particle weights\n",
    "There are a lot of ways to initialize and adjust properties like particle weight in Warp. The preferred method for setup is normally through the `Species` Class. However, `Species` is just a convenience class that is really handling a lot of variable and array initialization for you that is being stored in Warp's `top` object.\n",
    "\n",
    "In the first example we start by setting the weight for all particles uniformly with our `beam` instance of `Species`\n",
    "> beam.sw = 100.0\n",
    "\n",
    "We can check this by calling `beam.getweights()` (not sure if this works before `generate()` is called - which handles a lot of general initialization - many things may not work if `generate()` isn't called)"
   ]
  },
  {
   "cell_type": "code",
   "execution_count": 3,
   "metadata": {},
   "outputs": [
    {
     "data": {
      "text/plain": [
       "array([100., 100., 100., 100., 100., 100., 100., 100., 100., 100., 100.,\n",
       "       100., 100., 100., 100., 100., 100., 100., 100.])"
      ]
     },
     "execution_count": 3,
     "metadata": {},
     "output_type": "execute_result"
    }
   ],
   "source": [
    "beam.getweights()"
   ]
  },
  {
   "cell_type": "markdown",
   "metadata": {},
   "source": [
    "This is really just pulling from top. All individual particle data is stored (by Species index if there are multiple Species) in top.pgroup. Most attributes of top.pgroup are always created if the Species has particles (e.g. `top.pgroup.xp` stores the x positions of a Species - see ParticleGroup in top.v for a full list).\n",
    "It is important to note that the array we care about `top.pgroup.pid` is only initialized under certain conditions. If we set `lvariableweights=True` and in our example this initialization will have been taken care of.\n",
    "\n",
    "Note:\n",
    "\n",
    "`top.pgroup.pid` can store many optional quantities (see ParticleGroup in top.v for a full list). To know if a quantity is being recorded and its index you can use the corresponding name from `top`. (Fortran indexing is used)"
   ]
  },
  {
   "cell_type": "code",
   "execution_count": 4,
   "metadata": {},
   "outputs": [
    {
     "name": "stdout",
     "output_type": "stream",
     "text": [
      "1\n"
     ]
    }
   ],
   "source": [
    "print(wp.top.wpid)"
   ]
  },
  {
   "cell_type": "markdown",
   "metadata": {},
   "source": [
    "So our particle weights are"
   ]
  },
  {
   "cell_type": "code",
   "execution_count": 5,
   "metadata": {},
   "outputs": [
    {
     "data": {
      "text/plain": [
       "array([1., 1., 1., 1., 1., 1., 1., 1., 1., 1., 1., 1., 1., 1., 1., 1., 1.,\n",
       "       1., 1.])"
      ]
     },
     "execution_count": 5,
     "metadata": {},
     "output_type": "execute_result"
    }
   ],
   "source": [
    "wp.top.pgroup.pid[:wp.top.nplive, wp.top.wpid - 1]"
   ]
  },
  {
   "cell_type": "markdown",
   "metadata": {},
   "source": [
    "Species weight is what we initialized with (`beam.sw`) it is stored in another array that is indexed based on species number. We only have one species though. We can see now that when we call `beam.getweights()` we are actually getting \n",
    "> wp.top.pgroup.sw * wp.top.pgroup.pid[:wp.top.nplive, wp.top.wpid - 1]"
   ]
  },
  {
   "cell_type": "code",
   "execution_count": 6,
   "metadata": {},
   "outputs": [
    {
     "data": {
      "text/plain": [
       "array([100.])"
      ]
     },
     "execution_count": 6,
     "metadata": {},
     "output_type": "execute_result"
    }
   ],
   "source": [
    "wp.top.pgroup.sw"
   ]
  },
  {
   "cell_type": "markdown",
   "metadata": {},
   "source": [
    "# Changing particle weights"
   ]
  },
  {
   "cell_type": "markdown",
   "metadata": {},
   "source": [
    "Looking at charge deposition on the grid provides an easy way to check what is happening with particle weights"
   ]
  },
  {
   "cell_type": "code",
   "execution_count": 7,
   "metadata": {},
   "outputs": [
    {
     "data": {
      "image/png": "[encoded data removed]",
      "text/plain": [
       "<Figure size 432x288 with 1 Axes>"
      ]
     },
     "metadata": {
      "needs_background": "light"
     },
     "output_type": "display_data"
    }
   ],
   "source": [
    "plt.figure()\n",
    "plt.contourf(solverE.getrhop())\n",
    "plt.show()"
   ]
  },
  {
   "cell_type": "markdown",
   "metadata": {},
   "source": [
    "There are builtin selection functions in Warp to filter based on most particle attributes but we'll use NumPy functions for convenience in this example"
   ]
  },
  {
   "cell_type": "code",
   "execution_count": 8,
   "metadata": {},
   "outputs": [],
   "source": [
    "mask = np.where(beam.getx() < 0)[0]"
   ]
  },
  {
   "cell_type": "code",
   "execution_count": 9,
   "metadata": {},
   "outputs": [],
   "source": [
    "wp.top.pgroup.pid[mask, wp.top.wpid - 1] = 42."
   ]
  },
  {
   "cell_type": "markdown",
   "metadata": {},
   "source": [
    "Check the result in the array"
   ]
  },
  {
   "cell_type": "code",
   "execution_count": 10,
   "metadata": {},
   "outputs": [
    {
     "data": {
      "text/plain": [
       "array([42., 42., 42., 42., 42., 42., 42., 42., 42.,  1.,  1.,  1.,  1.,\n",
       "        1.,  1.,  1.,  1.,  1.,  1.])"
      ]
     },
     "execution_count": 10,
     "metadata": {},
     "output_type": "execute_result"
    }
   ],
   "source": [
    "wp.top.pgroup.pid[:wp.top.nplive, wp.top.wpid - 1]"
   ]
  },
  {
   "cell_type": "markdown",
   "metadata": {},
   "source": [
    "#### Take one step to update deposition"
   ]
  },
  {
   "cell_type": "code",
   "execution_count": 11,
   "metadata": {},
   "outputs": [
    {
     "name": "stdout",
     "output_type": "stream",
     "text": [
      " ***  particle simulation package W3D running\n"
     ]
    }
   ],
   "source": [
    "wp.step(1)"
   ]
  },
  {
   "cell_type": "code",
   "execution_count": 12,
   "metadata": {},
   "outputs": [
    {
     "data": {
      "image/png": "[encoded data removed]",
      "text/plain": [
       "<Figure size 432x288 with 1 Axes>"
      ]
     },
     "metadata": {
      "needs_background": "light"
     },
     "output_type": "display_data"
    }
   ],
   "source": [
    "plt.figure()\n",
    "plt.contourf(solverE.getrhop())\n",
    "plt.show()"
   ]
  },
  {
   "cell_type": "markdown",
   "metadata": {},
   "source": [
    "# Updating automatically\n",
    "\n",
    "Can use `installafterstep` function that can be used to call functions at the end of the PIC-cycle step (there are corresponding functions to call before/after most individual portions of the cycle).\n",
    "\n",
    "Here we just use a trivial example to reset the weights"
   ]
  },
  {
   "cell_type": "code",
   "execution_count": 13,
   "metadata": {},
   "outputs": [],
   "source": [
    "def fix_weights():\n",
    "    wp.top.pgroup.pid[:, wp.top.wpid - 1] = 42.\n",
    "wp.installafterstep(fix_weights)"
   ]
  },
  {
   "cell_type": "code",
   "execution_count": 14,
   "metadata": {},
   "outputs": [],
   "source": [
    "wp.step(2)\n",
    "# Apparently you have to take 2 steps here to see the expected uniform density. \n",
    "# Not sure if this is expected or something strange happening with the function call"
   ]
  },
  {
   "cell_type": "code",
   "execution_count": 15,
   "metadata": {},
   "outputs": [
    {
     "data": {
      "image/png": "[encoded data removed]",
      "text/plain": [
       "<Figure size 432x288 with 1 Axes>"
      ]
     },
     "metadata": {
      "needs_background": "light"
     },
     "output_type": "display_data"
    }
   ],
   "source": [
    "plt.figure()\n",
    "plt.contourf(solverE.getrhop())\n",
    "plt.show()"
   ]
  },
  {
   "cell_type": "markdown",
   "metadata": {},
   "source": [
    "# !!!WARNING!!!\n",
    "One important thing to note. If you are executing Warp in parallel then each rank has its own copy of top. Python level calls (e.g. beam.getweights()) can perform the necessary MPI communication to return all particle data to the head rank. If manipulation is being performed directly with `top` then obviously the user is responsible for making sure they handle the MPI communication as desired."
   ]
  },
  {
   "cell_type": "code",
   "execution_count": null,
   "metadata": {},
   "outputs": [],
   "source": []
  }
 ],
 "metadata": {
  "kernelspec": {
   "display_name": "Python 3",
   "language": "python",
   "name": "py3"
  },
  "language_info": {
   "codemirror_mode": {
    "name": "ipython",
    "version": 3
   },
   "file_extension": ".py",
   "mimetype": "text/x-python",
   "name": "python",
   "nbconvert_exporter": "python",
   "pygments_lexer": "ipython3",
   "version": "3.7.2"
  }
 },
 "nbformat": 4,
 "nbformat_minor": 4
}
