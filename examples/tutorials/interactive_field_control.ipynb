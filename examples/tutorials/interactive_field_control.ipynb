{
 "cells": [
  {
   "cell_type": "code",
   "execution_count": 1,
   "metadata": {},
   "outputs": [
    {
     "name": "stdout",
     "output_type": "stream",
     "text": [
      "# Warp\n",
      "# Origin date: Tue, 7 Jan 2020 09:31:24 -0700\n",
      "# Local date: Tue, 7 Jan 2020 09:31:24 -0700\n",
      "# Commit hash: 4ebb54f\n",
      "# /home/vagrant/.pyenv/versions/py3/lib/python3.7/site-packages/warp/warp.py\n",
      "# /home/vagrant/.pyenv/versions/py3/lib/python3.7/site-packages/warp/warpC.cpython-37m-x86_64-linux-gnu.so\n",
      "# Tue May  5 22:49:48 2020\n",
      "# import warp time 0.10396623611450195 seconds\n",
      "# For more help, type warphelp()\n",
      " ***  particle simulation package W3D generating\n",
      " ---  Resetting lattice array sizes\n",
      " ---  Allocating space for particles\n",
      " ---  Loading particles\n",
      " ---  Setting charge density\n",
      " ---  done\n",
      " ---  Allocating Win_Moments\n",
      " ---  Allocating Z_Moments\n",
      " ---  Allocating Lab_Moments\n"
     ]
    }
   ],
   "source": [
    "%run external_field_modification.py"
   ]
  },
  {
   "cell_type": "code",
   "execution_count": 2,
   "metadata": {},
   "outputs": [],
   "source": [
    "import matplotlib.pyplot as plt"
   ]
  },
  {
   "cell_type": "markdown",
   "metadata": {},
   "source": [
    "# Setting and dynamically changing background fields\n",
    "\n",
    "This example discusses setting and editing background E and B fields in Warp. These fields are applied directly to the PIC mesh and are defined external to the solver. THey are not known to Warp's `FieldSolver`, which only considers particles and boundary conditions when defining the field, and will not be evident if fields are queried through a `FieldSolver`. \n",
    "\n",
    "The setup external E and B fields is couched as a means to setup elements that would appear in accelerator particle tracking simulations. Traditionally this would mean that these fields may not be positioned in the solver domain at every time step and that they are not necessarily meant to be dynamically edited, with some exceptions.\n",
    "\n",
    "Here we walk through setting up an externall and (nominally) static electric field and then show how it may be updated between solver steps. It should be noted that if the time-varying behavior of a field is known a priori there are options to supply this during setup of the external field, so that direct editing of the array containing the field data will not be required."
   ]
  },
  {
   "cell_type": "markdown",
   "metadata": {},
   "source": [
    "## Adding a background electric field\n",
    "\n",
    "This is most easily accomplished with the `addnewegrd` function which will take care of setting a number of parameters in `top` that are required to define and place the electric field grid data. \n",
    "The initial setup for this is taken care of in `external_field_modification.py` under  **Install Background Field(s)**\n",
    "\n",
    "<code>\n",
    "ez = np.zeros([wp.w3d.nx, wp.w3d.ny, wp.w3d.nz])\n",
    "ez[:, :, :] = 1e5  # V/m\n",
    "z_start = wp.w3d.zmmin \n",
    "z_stop = wp.w3d.zmmax \n",
    "dx = (wp.w3d.xmmax - wp.w3d.xmmin) / wp.w3d.nx \n",
    "\n",
    "wp.addnewegrd(z_start, z_stop, \n",
    "              xs=wp.w3d.xmmin / 2., dx=dx/2., \n",
    "              ys=wp.w3d.ymmin, dy=(wp.w3d.ymmax - wp.w3d.ymmin), \n",
    "              nx=wp.w3d.nx, ny=wp.w3d.ny, nz=wp.w3d.nz, ez=ez) \n",
    "</code>\n",
    "\n",
    "This defines a uniform field of 0.1 MV. The block extends the full width of the domain in y and z. It covers the middle half of the domain in x. \n",
    "A couple of notes:\n",
    "- The external field does not have to be defined matching to the solver mesh. We have only done that here for convenience in positioning.\n",
    "- While we are using a 2D solver (XZ plane) you may see weird behavior (zero field most likely) if you do not define the field in some finite region in y as well.\n",
    "\n"
   ]
  },
  {
   "cell_type": "markdown",
   "metadata": {},
   "source": [
    "## External field quantities\n",
    "\n",
    "All data for external fields is stored in `top` the list of variable names can be found in **top.v** under `EGRDdata dump`.  "
   ]
  },
  {
   "cell_type": "code",
   "execution_count": 3,
   "metadata": {},
   "outputs": [
    {
     "data": {
      "text/plain": [
       "array([-0.025])"
      ]
     },
     "execution_count": 3,
     "metadata": {},
     "output_type": "execute_result"
    }
   ],
   "source": [
    "# x position where the grid starts\n",
    "wp.top.egrdxs"
   ]
  },
  {
   "cell_type": "code",
   "execution_count": 4,
   "metadata": {},
   "outputs": [
    {
     "data": {
      "text/plain": [
       "array([0.0475])"
      ]
     },
     "execution_count": 4,
     "metadata": {},
     "output_type": "execute_result"
    }
   ],
   "source": [
    "# extent of the grid in x based on the number of cells in the grid and their separation\n",
    "wp.top.egrdnx * wp.top.egrddx"
   ]
  },
  {
   "cell_type": "code",
   "execution_count": 5,
   "metadata": {},
   "outputs": [
    {
     "data": {
      "text/plain": [
       "array([[[100000., 100000., 100000., 100000., 100000.],\n",
       "        [100000., 100000., 100000., 100000., 100000.],\n",
       "        [100000., 100000., 100000., 100000., 100000.],\n",
       "        [100000., 100000., 100000., 100000., 100000.],\n",
       "        [100000., 100000., 100000., 100000., 100000.]],\n",
       "\n",
       "       [[100000., 100000., 100000., 100000., 100000.],\n",
       "        [100000., 100000., 100000., 100000., 100000.],\n",
       "        [100000., 100000., 100000., 100000., 100000.],\n",
       "        [100000., 100000., 100000., 100000., 100000.],\n",
       "        [100000., 100000., 100000., 100000., 100000.]],\n",
       "\n",
       "       [[100000., 100000., 100000., 100000., 100000.],\n",
       "        [100000., 100000., 100000., 100000., 100000.],\n",
       "        [100000., 100000., 100000., 100000., 100000.],\n",
       "        [100000., 100000., 100000., 100000., 100000.],\n",
       "        [100000., 100000., 100000., 100000., 100000.]],\n",
       "\n",
       "       [[100000., 100000., 100000., 100000., 100000.],\n",
       "        [100000., 100000., 100000., 100000., 100000.],\n",
       "        [100000., 100000., 100000., 100000., 100000.],\n",
       "        [100000., 100000., 100000., 100000., 100000.],\n",
       "        [100000., 100000., 100000., 100000., 100000.]],\n",
       "\n",
       "       [[100000., 100000., 100000., 100000., 100000.],\n",
       "        [100000., 100000., 100000., 100000., 100000.],\n",
       "        [100000., 100000., 100000., 100000., 100000.],\n",
       "        [100000., 100000., 100000., 100000., 100000.],\n",
       "        [100000., 100000., 100000., 100000., 100000.]]])"
      ]
     },
     "execution_count": 5,
     "metadata": {},
     "output_type": "execute_result"
    }
   ],
   "source": [
    "# part of the Ez array (truncated for formatting)\n",
    "wp.top.egrdez[:5, :5, :5, 0]"
   ]
  },
  {
   "cell_type": "markdown",
   "metadata": {},
   "source": [
    "## Demonstration and update sequence "
   ]
  },
  {
   "cell_type": "markdown",
   "metadata": {},
   "source": [
    "Make a copy of initial particle positions to compare to later on"
   ]
  },
  {
   "cell_type": "code",
   "execution_count": 6,
   "metadata": {},
   "outputs": [],
   "source": [
    "xo = beam.getx().copy()\n",
    "zo = beam.getz().copy()"
   ]
  },
  {
   "cell_type": "code",
   "execution_count": 7,
   "metadata": {},
   "outputs": [
    {
     "data": {
      "image/png": "[encoded data removed]",
      "text/plain": [
       "<Figure size 432x288 with 1 Axes>"
      ]
     },
     "metadata": {
      "needs_background": "light"
     },
     "output_type": "display_data"
    }
   ],
   "source": [
    "plt.figure()\n",
    "plt.scatter(xo,\n",
    "            zo, s=10)\n",
    "plt.xlabel('x (m)')\n",
    "plt.ylabel('z (m)')\n",
    "plt.show()"
   ]
  },
  {
   "cell_type": "markdown",
   "metadata": {},
   "source": [
    "### Take one step so we can impact of field"
   ]
  },
  {
   "cell_type": "code",
   "execution_count": 8,
   "metadata": {},
   "outputs": [
    {
     "name": "stdout",
     "output_type": "stream",
     "text": [
      " ***  particle simulation package W3D running\n"
     ]
    }
   ],
   "source": [
    "wp.step(1)"
   ]
  },
  {
   "cell_type": "markdown",
   "metadata": {},
   "source": [
    "We can see that only particles in the central half of the domain - where the field is defined - have moved"
   ]
  },
  {
   "cell_type": "code",
   "execution_count": 9,
   "metadata": {},
   "outputs": [
    {
     "data": {
      "image/png": "[encoded data removed]",
      "text/plain": [
       "<Figure size 864x432 with 2 Axes>"
      ]
     },
     "metadata": {
      "needs_background": "light"
     },
     "output_type": "display_data"
    }
   ],
   "source": [
    "fig1, [ax1, ax2] = plt.subplots(1, 2, figsize=(12, 6))\n",
    "ax1.scatter(beam.getx(),\n",
    "            beam.getz(), label='Current position')\n",
    "ax1.scatter(xo,\n",
    "            zo, s=10, label='Starting position')\n",
    "ax1.set_xlabel('x (m)')\n",
    "ax1.set_ylabel('z (m)')\n",
    "ax1.legend()\n",
    "\n",
    "ax2.scatter(beam.getx(),\n",
    "            beam.getvz(), label='Current velocity')\n",
    "\n",
    "ax2.set_xlabel('x (m)')\n",
    "ax2.set_ylabel('vz ()')\n",
    "ax2.legend()\n",
    "\n",
    "plt.show()"
   ]
  },
  {
   "cell_type": "markdown",
   "metadata": {},
   "source": [
    "### Update the field\n",
    "If we just want to modify the field in the same region this can be done by modifying the values in the existing array"
   ]
  },
  {
   "cell_type": "code",
   "execution_count": 10,
   "metadata": {},
   "outputs": [],
   "source": [
    "wp.top.egrdez = wp.top.egrdez * -1"
   ]
  },
  {
   "cell_type": "code",
   "execution_count": 11,
   "metadata": {},
   "outputs": [
    {
     "data": {
      "text/plain": [
       "array([[[-100000., -100000., -100000., -100000., -100000.],\n",
       "        [-100000., -100000., -100000., -100000., -100000.],\n",
       "        [-100000., -100000., -100000., -100000., -100000.],\n",
       "        [-100000., -100000., -100000., -100000., -100000.],\n",
       "        [-100000., -100000., -100000., -100000., -100000.]],\n",
       "\n",
       "       [[-100000., -100000., -100000., -100000., -100000.],\n",
       "        [-100000., -100000., -100000., -100000., -100000.],\n",
       "        [-100000., -100000., -100000., -100000., -100000.],\n",
       "        [-100000., -100000., -100000., -100000., -100000.],\n",
       "        [-100000., -100000., -100000., -100000., -100000.]],\n",
       "\n",
       "       [[-100000., -100000., -100000., -100000., -100000.],\n",
       "        [-100000., -100000., -100000., -100000., -100000.],\n",
       "        [-100000., -100000., -100000., -100000., -100000.],\n",
       "        [-100000., -100000., -100000., -100000., -100000.],\n",
       "        [-100000., -100000., -100000., -100000., -100000.]],\n",
       "\n",
       "       [[-100000., -100000., -100000., -100000., -100000.],\n",
       "        [-100000., -100000., -100000., -100000., -100000.],\n",
       "        [-100000., -100000., -100000., -100000., -100000.],\n",
       "        [-100000., -100000., -100000., -100000., -100000.],\n",
       "        [-100000., -100000., -100000., -100000., -100000.]],\n",
       "\n",
       "       [[-100000., -100000., -100000., -100000., -100000.],\n",
       "        [-100000., -100000., -100000., -100000., -100000.],\n",
       "        [-100000., -100000., -100000., -100000., -100000.],\n",
       "        [-100000., -100000., -100000., -100000., -100000.],\n",
       "        [-100000., -100000., -100000., -100000., -100000.]]])"
      ]
     },
     "execution_count": 11,
     "metadata": {},
     "output_type": "execute_result"
    }
   ],
   "source": [
    "wp.top.egrdez[:5, :5, :5, 0]"
   ]
  },
  {
   "cell_type": "markdown",
   "metadata": {},
   "source": [
    "The only catch is that you must call `gchange` specifiying the `EGRDdata` group for the change to be registered"
   ]
  },
  {
   "cell_type": "code",
   "execution_count": 12,
   "metadata": {},
   "outputs": [],
   "source": [
    "wp.gchange('EGRDdata')"
   ]
  },
  {
   "cell_type": "markdown",
   "metadata": {},
   "source": [
    "Now take several steps to see the impact of the change"
   ]
  },
  {
   "cell_type": "code",
   "execution_count": 13,
   "metadata": {},
   "outputs": [],
   "source": [
    "wp.step(3)"
   ]
  },
  {
   "cell_type": "markdown",
   "metadata": {},
   "source": [
    "The particles have no reversed direction because of the update to the field"
   ]
  },
  {
   "cell_type": "code",
   "execution_count": 14,
   "metadata": {},
   "outputs": [
    {
     "data": {
      "image/png": "[encoded data removed]",
      "text/plain": [
       "<Figure size 864x432 with 2 Axes>"
      ]
     },
     "metadata": {
      "needs_background": "light"
     },
     "output_type": "display_data"
    }
   ],
   "source": [
    "fig1, [ax1, ax2] = plt.subplots(1, 2, figsize=(12, 6))\n",
    "ax1.scatter(beam.getx(),\n",
    "            beam.getz(), label='Current position')\n",
    "ax1.scatter(xo,\n",
    "            zo, s=10, label='Starting position')\n",
    "ax1.set_xlabel('x (m)')\n",
    "ax1.set_ylabel('z (m)')\n",
    "ax1.legend()\n",
    "\n",
    "ax2.scatter(beam.getx(),\n",
    "            beam.getvz(), label='Current velocity')\n",
    "\n",
    "ax2.set_xlabel('x (m)')\n",
    "ax2.set_ylabel('vz ()')\n",
    "ax2.legend()\n",
    "\n",
    "plt.show()"
   ]
  },
  {
   "cell_type": "code",
   "execution_count": null,
   "metadata": {},
   "outputs": [],
   "source": []
  }
 ],
 "metadata": {
  "kernelspec": {
   "display_name": "Python 3",
   "language": "python",
   "name": "py3"
  },
  "language_info": {
   "codemirror_mode": {
    "name": "ipython",
    "version": 3
   },
   "file_extension": ".py",
   "mimetype": "text/x-python",
   "name": "python",
   "nbconvert_exporter": "python",
   "pygments_lexer": "ipython3",
   "version": "3.7.2"
  }
 },
 "nbformat": 4,
 "nbformat_minor": 4
}
